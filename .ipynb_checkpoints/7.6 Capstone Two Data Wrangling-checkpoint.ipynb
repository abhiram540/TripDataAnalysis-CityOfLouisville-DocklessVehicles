{
 "cells": [
  {
   "cell_type": "code",
   "execution_count": 59,
   "metadata": {},
   "outputs": [
    {
     "name": "stdout",
     "output_type": "stream",
     "text": [
      "                             TripID   StartDate StartTime     EndDate EndTime  \\\n",
      "0  0000045c-2677-3a7d-4b73-cad99a57  2019-06-26     19:30  2019-06-26   19:30   \n",
      "1  0000487b-92e6-50d6-7569-42ed3818  2019-09-22     14:30  2019-09-22   14:30   \n",
      "2  00006088-2579-e0d0-6a30-a15bb878  2019-08-21     17:30  2019-08-21   17:30   \n",
      "3  00008c1a-899b-8596-970f-9f6bf495  2019-07-03     11:00  2019-07-03   11:15   \n",
      "4  00009301-3225-2aea-a84a-165a480a  2019-11-22     10:45  2019-11-22   11:00   \n",
      "\n",
      "   TripDuration  TripDistance  StartLatitude  StartLongitude  EndLatitude  \\\n",
      "0           3.0         0.000         38.253         -85.756       38.253   \n",
      "1           5.0         0.000         38.203         -85.752       38.204   \n",
      "2           6.0         0.330         38.259         -85.733       38.265   \n",
      "3           6.0         0.640         38.217         -85.757       38.221   \n",
      "4           7.0         0.599         38.215         -85.759       38.222   \n",
      "\n",
      "   EndLongitude  DayOfWeek  HourNum  \n",
      "0       -85.755          4       19  \n",
      "1       -85.751          1       14  \n",
      "2       -85.739          4       17  \n",
      "3       -85.763          4       11  \n",
      "4       -85.764          6       10  \n"
     ]
    }
   ],
   "source": [
    "import os\n",
    "import pandas as pd\n",
    "\n",
    "#df1 will read Trip Data from August 2018 till January 2020\n",
    "#df2 will pull trip data from February 2020 till January 2021\n",
    "#df3 will pull Louisville weather data from August 2018 - January 2021\n",
    "df1 = pd.read_csv(r'C:\\Users\\abhiram.muktineni\\Desktop\\DS\\DS Career Track docs\\Free Data Sets\\City of Louisville - escooter data\\Data Files\\DocklessTripOpenData_10.csv')\n",
    "df2 = pd.read_csv(r'C:\\Users\\abhiram.muktineni\\Desktop\\DS\\DS Career Track docs\\Free Data Sets\\City of Louisville - escooter data\\Data Files\\fuzzed-trips.csv')\n",
    "df3 = pd.read_excel(r'C:\\Users\\abhiram.muktineni\\Desktop\\DS\\DS Career Track docs\\Free Data Sets\\City of Louisville - escooter data\\City_of_Louisville_ Weather_data.xlsx')\n",
    "\n",
    "print(df1.head())\n"
   ]
  },
  {
   "cell_type": "code",
   "execution_count": 60,
   "metadata": {},
   "outputs": [
    {
     "name": "stdout",
     "output_type": "stream",
     "text": [
      "         Day  High   Low Precip.  Snow  Unnamed: 5  Unnamed: 6\n",
      "0        NaT    ºF    ºF    inch  inch         NaN         NaN\n",
      "1 2018-08-01    82    70    0.94     0         NaN         NaN\n",
      "2 2018-08-02    84    70       0     0         NaN         NaN\n",
      "3 2018-08-03  89.1  69.1       0     0         NaN         NaN\n",
      "4 2018-08-04    91    72       0     0         NaN         NaN\n"
     ]
    }
   ],
   "source": [
    "print(df3.head()) #ºF"
   ]
  },
  {
   "cell_type": "code",
   "execution_count": 61,
   "metadata": {},
   "outputs": [
    {
     "name": "stdout",
     "output_type": "stream",
     "text": [
      "        Date HighºF LowºF Precip.(inch) Snow(inch)\n",
      "1 2018-08-01     82    70          0.94          0\n",
      "2 2018-08-02     84    70             0          0\n",
      "3 2018-08-03   89.1  69.1             0          0\n",
      "4 2018-08-04     91    72             0          0\n",
      "5 2018-08-05     93    73             0          0\n"
     ]
    }
   ],
   "source": [
    "df3.drop(['Unnamed: 5', 'Unnamed: 6'], axis = 1, inplace=True)\n",
    "df3.drop(0, axis = 0, inplace=True)\n",
    "df3.rename(columns={'Day':'Date','High':'HighºF', 'Low':'LowºF', 'Precip.':'Precip.(inch)', 'Snow':'Snow(inch)'}, inplace=True)\n",
    "#df3.reset_index(inplace=True)\n",
    "print(df3.head())"
   ]
  },
  {
   "cell_type": "code",
   "execution_count": 62,
   "metadata": {},
   "outputs": [
    {
     "name": "stdout",
     "output_type": "stream",
     "text": [
      "                                 TripID                 StartDate  StartTime  \\\n",
      "0  81984511-f6ef-5484-9217-1ad2eaf459fa  2020-02-01T11:00:00.000Z        NaN   \n",
      "1  64d25cd4-d3a0-5b01-9d9b-13e7f5ce3329  2020-02-01T11:00:00.000Z        NaN   \n",
      "2  21a9ff20-081b-5bf7-b9b5-997168cf9a91  2020-02-01T11:00:00.000Z        NaN   \n",
      "3  f8df92a8-44da-5306-944d-e9020e681f47  2020-02-01T11:15:00.000Z        NaN   \n",
      "4  7748f3cc-ddf7-5986-8296-0cc132b6b3b9  2020-02-01T11:15:00.000Z        NaN   \n",
      "\n",
      "                    EndDate  EndTime  TripDuration  TripDistance  \\\n",
      "0  2020-02-01T11:15:00.000Z      NaN             4         0.407   \n",
      "1  2020-02-01T11:00:00.000Z      NaN             0         0.000   \n",
      "2  2020-02-01T11:15:00.000Z      NaN             3         0.303   \n",
      "3  2020-02-01T11:30:00.000Z      NaN            14         0.890   \n",
      "4  2020-02-01T11:15:00.000Z      NaN             5         0.761   \n",
      "\n",
      "   StartLatitude  StartLongitude  EndLatitude  EndLongitude  DayOfWeek  \\\n",
      "0         38.226         -85.769       38.227       -85.769          7   \n",
      "1         38.226         -85.769       38.226       -85.769          7   \n",
      "2         38.226         -85.769       38.227       -85.769          7   \n",
      "3         38.227         -85.769       38.221       -85.763          7   \n",
      "4         38.227         -85.769       38.221       -85.763          7   \n",
      "\n",
      "   HourNum  \n",
      "0        6  \n",
      "1        6  \n",
      "2        6  \n",
      "3        6  \n",
      "4        6  \n"
     ]
    }
   ],
   "source": [
    "print(df2.head())"
   ]
  },
  {
   "cell_type": "markdown",
   "metadata": {},
   "source": [
    "If you observe carefully the format of data in **StartDate** & **EndDate** columns in both **df1** & **df2** DataFrames are different. **df1** has its date format as **'YYYY-MM-DD'**, whereas **df2** has its date format as **'YYYY-MM-DD'T'HH:mm:ss.SSS'Z''**. We need to make changes to **StartDate** & **StartDate** columns in the **df2** DataFrame to reflecct the same format as that of in **df1** DataFrame."
   ]
  },
  {
   "cell_type": "code",
   "execution_count": 63,
   "metadata": {},
   "outputs": [
    {
     "data": {
      "text/html": [
       "<div>\n",
       "<style scoped>\n",
       "    .dataframe tbody tr th:only-of-type {\n",
       "        vertical-align: middle;\n",
       "    }\n",
       "\n",
       "    .dataframe tbody tr th {\n",
       "        vertical-align: top;\n",
       "    }\n",
       "\n",
       "    .dataframe thead th {\n",
       "        text-align: right;\n",
       "    }\n",
       "</style>\n",
       "<table border=\"1\" class=\"dataframe\">\n",
       "  <thead>\n",
       "    <tr style=\"text-align: right;\">\n",
       "      <th></th>\n",
       "      <th>TripID</th>\n",
       "      <th>StartDate</th>\n",
       "      <th>StartTime</th>\n",
       "      <th>EndDate</th>\n",
       "      <th>EndTime</th>\n",
       "      <th>TripDuration</th>\n",
       "      <th>TripDistance</th>\n",
       "      <th>StartLatitude</th>\n",
       "      <th>StartLongitude</th>\n",
       "      <th>EndLatitude</th>\n",
       "      <th>EndLongitude</th>\n",
       "      <th>DayOfWeek</th>\n",
       "      <th>HourNum</th>\n",
       "    </tr>\n",
       "  </thead>\n",
       "  <tbody>\n",
       "    <tr>\n",
       "      <th>0</th>\n",
       "      <td>81984511-f6ef-5484-9217-1ad2eaf459fa</td>\n",
       "      <td>2020-02-01</td>\n",
       "      <td>NaN</td>\n",
       "      <td>2020-02-01</td>\n",
       "      <td>NaN</td>\n",
       "      <td>4</td>\n",
       "      <td>0.407</td>\n",
       "      <td>38.226</td>\n",
       "      <td>-85.769</td>\n",
       "      <td>38.227</td>\n",
       "      <td>-85.769</td>\n",
       "      <td>7</td>\n",
       "      <td>6</td>\n",
       "    </tr>\n",
       "    <tr>\n",
       "      <th>1</th>\n",
       "      <td>64d25cd4-d3a0-5b01-9d9b-13e7f5ce3329</td>\n",
       "      <td>2020-02-01</td>\n",
       "      <td>NaN</td>\n",
       "      <td>2020-02-01</td>\n",
       "      <td>NaN</td>\n",
       "      <td>0</td>\n",
       "      <td>0.000</td>\n",
       "      <td>38.226</td>\n",
       "      <td>-85.769</td>\n",
       "      <td>38.226</td>\n",
       "      <td>-85.769</td>\n",
       "      <td>7</td>\n",
       "      <td>6</td>\n",
       "    </tr>\n",
       "    <tr>\n",
       "      <th>2</th>\n",
       "      <td>21a9ff20-081b-5bf7-b9b5-997168cf9a91</td>\n",
       "      <td>2020-02-01</td>\n",
       "      <td>NaN</td>\n",
       "      <td>2020-02-01</td>\n",
       "      <td>NaN</td>\n",
       "      <td>3</td>\n",
       "      <td>0.303</td>\n",
       "      <td>38.226</td>\n",
       "      <td>-85.769</td>\n",
       "      <td>38.227</td>\n",
       "      <td>-85.769</td>\n",
       "      <td>7</td>\n",
       "      <td>6</td>\n",
       "    </tr>\n",
       "    <tr>\n",
       "      <th>3</th>\n",
       "      <td>f8df92a8-44da-5306-944d-e9020e681f47</td>\n",
       "      <td>2020-02-01</td>\n",
       "      <td>NaN</td>\n",
       "      <td>2020-02-01</td>\n",
       "      <td>NaN</td>\n",
       "      <td>14</td>\n",
       "      <td>0.890</td>\n",
       "      <td>38.227</td>\n",
       "      <td>-85.769</td>\n",
       "      <td>38.221</td>\n",
       "      <td>-85.763</td>\n",
       "      <td>7</td>\n",
       "      <td>6</td>\n",
       "    </tr>\n",
       "    <tr>\n",
       "      <th>4</th>\n",
       "      <td>7748f3cc-ddf7-5986-8296-0cc132b6b3b9</td>\n",
       "      <td>2020-02-01</td>\n",
       "      <td>NaN</td>\n",
       "      <td>2020-02-01</td>\n",
       "      <td>NaN</td>\n",
       "      <td>5</td>\n",
       "      <td>0.761</td>\n",
       "      <td>38.227</td>\n",
       "      <td>-85.769</td>\n",
       "      <td>38.221</td>\n",
       "      <td>-85.763</td>\n",
       "      <td>7</td>\n",
       "      <td>6</td>\n",
       "    </tr>\n",
       "  </tbody>\n",
       "</table>\n",
       "</div>"
      ],
      "text/plain": [
       "                                 TripID   StartDate  StartTime     EndDate  \\\n",
       "0  81984511-f6ef-5484-9217-1ad2eaf459fa  2020-02-01        NaN  2020-02-01   \n",
       "1  64d25cd4-d3a0-5b01-9d9b-13e7f5ce3329  2020-02-01        NaN  2020-02-01   \n",
       "2  21a9ff20-081b-5bf7-b9b5-997168cf9a91  2020-02-01        NaN  2020-02-01   \n",
       "3  f8df92a8-44da-5306-944d-e9020e681f47  2020-02-01        NaN  2020-02-01   \n",
       "4  7748f3cc-ddf7-5986-8296-0cc132b6b3b9  2020-02-01        NaN  2020-02-01   \n",
       "\n",
       "   EndTime  TripDuration  TripDistance  StartLatitude  StartLongitude  \\\n",
       "0      NaN             4         0.407         38.226         -85.769   \n",
       "1      NaN             0         0.000         38.226         -85.769   \n",
       "2      NaN             3         0.303         38.226         -85.769   \n",
       "3      NaN            14         0.890         38.227         -85.769   \n",
       "4      NaN             5         0.761         38.227         -85.769   \n",
       "\n",
       "   EndLatitude  EndLongitude  DayOfWeek  HourNum  \n",
       "0       38.227       -85.769          7        6  \n",
       "1       38.226       -85.769          7        6  \n",
       "2       38.227       -85.769          7        6  \n",
       "3       38.221       -85.763          7        6  \n",
       "4       38.221       -85.763          7        6  "
      ]
     },
     "execution_count": 63,
     "metadata": {},
     "output_type": "execute_result"
    }
   ],
   "source": [
    "#type(df2['StartDate'])\n",
    "df2['StartDate'] = pd.to_datetime(df2['StartDate'])\n",
    "df2['EndDate'] = pd.to_datetime(df2['EndDate'])\n",
    "df2['StartDate'] = df2['StartDate'].dt.strftime('%Y-%m-%d')\n",
    "df2['EndDate'] = df2['EndDate'].dt.strftime('%Y-%m-%d')\n",
    "df2.head()"
   ]
  },
  {
   "cell_type": "code",
   "execution_count": 64,
   "metadata": {},
   "outputs": [
    {
     "name": "stdout",
     "output_type": "stream",
     "text": [
      "                                      TripID   StartDate StartTime  \\\n",
      "0           0000045c-2677-3a7d-4b73-cad99a57  2019-06-26     19:30   \n",
      "1           0000487b-92e6-50d6-7569-42ed3818  2019-09-22     14:30   \n",
      "2           00006088-2579-e0d0-6a30-a15bb878  2019-08-21     17:30   \n",
      "3           00008c1a-899b-8596-970f-9f6bf495  2019-07-03     11:00   \n",
      "4           00009301-3225-2aea-a84a-165a480a  2019-11-22     10:45   \n",
      "...                                      ...         ...       ...   \n",
      "641218  9e1ea446-109f-56c5-963d-e3623c7cd783  2021-01-25       NaN   \n",
      "641219  5e1716ec-36c3-58b1-9f95-83f0bd55f960  2021-01-25       NaN   \n",
      "641220  14653452-d524-5ef3-a993-e12de364fa45  2021-01-25       NaN   \n",
      "641221  a35e2aca-9d84-5a6e-90c2-b8bb00b9805a  2021-01-25       NaN   \n",
      "641222  6ee54f38-ed8d-54d0-acdb-1b42365e3d07  2021-01-25       NaN   \n",
      "\n",
      "           EndDate EndTime  TripDuration  TripDistance  StartLatitude  \\\n",
      "0       2019-06-26   19:30           3.0         0.000         38.253   \n",
      "1       2019-09-22   14:30           5.0         0.000         38.203   \n",
      "2       2019-08-21   17:30           6.0         0.330         38.259   \n",
      "3       2019-07-03   11:15           6.0         0.640         38.217   \n",
      "4       2019-11-22   11:00           7.0         0.599         38.215   \n",
      "...            ...     ...           ...           ...            ...   \n",
      "641218  2021-01-25     NaN           2.0         0.348         38.217   \n",
      "641219  2021-01-25     NaN           6.0         1.065         38.208   \n",
      "641220  2021-01-25     NaN           6.0         1.137         38.208   \n",
      "641221  2021-01-25     NaN           5.0         0.888         38.217   \n",
      "641222  2021-01-25     NaN           4.0         0.561         38.217   \n",
      "\n",
      "        StartLongitude  EndLatitude  EndLongitude  DayOfWeek  HourNum  \n",
      "0              -85.756       38.253       -85.755          4       19  \n",
      "1              -85.752       38.204       -85.751          1       14  \n",
      "2              -85.733       38.265       -85.739          4       17  \n",
      "3              -85.757       38.221       -85.763          4       11  \n",
      "4              -85.759       38.222       -85.764          6       10  \n",
      "...                ...          ...           ...        ...      ...  \n",
      "641218         -85.757       38.215       -85.759          2       11  \n",
      "641219         -85.754       38.217       -85.762          2       12  \n",
      "641220         -85.754       38.217       -85.762          2       12  \n",
      "641221         -85.757       38.227       -85.758          2       12  \n",
      "641222         -85.762       38.217       -85.756          2       12  \n",
      "\n",
      "[641223 rows x 13 columns]\n"
     ]
    }
   ],
   "source": [
    "# Concatinating DataFrames df1 & df2 into a single DataFrame\n",
    "df12 = pd.concat([df1, df2], ignore_index=True)\n",
    "print(df12.head(-1))\n"
   ]
  },
  {
   "cell_type": "code",
   "execution_count": 65,
   "metadata": {},
   "outputs": [
    {
     "data": {
      "text/html": [
       "<div>\n",
       "<style scoped>\n",
       "    .dataframe tbody tr th:only-of-type {\n",
       "        vertical-align: middle;\n",
       "    }\n",
       "\n",
       "    .dataframe tbody tr th {\n",
       "        vertical-align: top;\n",
       "    }\n",
       "\n",
       "    .dataframe thead th {\n",
       "        text-align: right;\n",
       "    }\n",
       "</style>\n",
       "<table border=\"1\" class=\"dataframe\">\n",
       "  <thead>\n",
       "    <tr style=\"text-align: right;\">\n",
       "      <th></th>\n",
       "      <th>Date</th>\n",
       "      <th>HighºF</th>\n",
       "      <th>LowºF</th>\n",
       "      <th>Precip.(inch)</th>\n",
       "      <th>Snow(inch)</th>\n",
       "    </tr>\n",
       "  </thead>\n",
       "  <tbody>\n",
       "  </tbody>\n",
       "</table>\n",
       "</div>"
      ],
      "text/plain": [
       "Empty DataFrame\n",
       "Columns: [Date, HighºF, LowºF, Precip.(inch), Snow(inch)]\n",
       "Index: []"
      ]
     },
     "execution_count": 65,
     "metadata": {},
     "output_type": "execute_result"
    }
   ],
   "source": [
    "#Checking if there are any NULL or NaN values in the dataframe containing weather data\n",
    "# filtering data\n",
    "# displaying data only with Date = NaN\n",
    "df3[pd.isnull(df3['Date'])]"
   ]
  },
  {
   "cell_type": "code",
   "execution_count": 66,
   "metadata": {},
   "outputs": [
    {
     "data": {
      "text/html": [
       "<div>\n",
       "<style scoped>\n",
       "    .dataframe tbody tr th:only-of-type {\n",
       "        vertical-align: middle;\n",
       "    }\n",
       "\n",
       "    .dataframe tbody tr th {\n",
       "        vertical-align: top;\n",
       "    }\n",
       "\n",
       "    .dataframe thead th {\n",
       "        text-align: right;\n",
       "    }\n",
       "</style>\n",
       "<table border=\"1\" class=\"dataframe\">\n",
       "  <thead>\n",
       "    <tr style=\"text-align: right;\">\n",
       "      <th></th>\n",
       "      <th>Date</th>\n",
       "      <th>HighºF</th>\n",
       "      <th>LowºF</th>\n",
       "      <th>Precip.(inch)</th>\n",
       "      <th>Snow(inch)</th>\n",
       "    </tr>\n",
       "  </thead>\n",
       "  <tbody>\n",
       "    <tr>\n",
       "      <th>153</th>\n",
       "      <td>2018-12-31</td>\n",
       "      <td>NaN</td>\n",
       "      <td>NaN</td>\n",
       "      <td>NaN</td>\n",
       "      <td>NaN</td>\n",
       "    </tr>\n",
       "    <tr>\n",
       "      <th>514</th>\n",
       "      <td>2019-12-27</td>\n",
       "      <td>NaN</td>\n",
       "      <td>NaN</td>\n",
       "      <td>NaN</td>\n",
       "      <td>NaN</td>\n",
       "    </tr>\n",
       "    <tr>\n",
       "      <th>515</th>\n",
       "      <td>2019-12-28</td>\n",
       "      <td>NaN</td>\n",
       "      <td>NaN</td>\n",
       "      <td>NaN</td>\n",
       "      <td>NaN</td>\n",
       "    </tr>\n",
       "    <tr>\n",
       "      <th>516</th>\n",
       "      <td>2019-12-29</td>\n",
       "      <td>NaN</td>\n",
       "      <td>NaN</td>\n",
       "      <td>NaN</td>\n",
       "      <td>NaN</td>\n",
       "    </tr>\n",
       "    <tr>\n",
       "      <th>517</th>\n",
       "      <td>2019-12-30</td>\n",
       "      <td>NaN</td>\n",
       "      <td>NaN</td>\n",
       "      <td>NaN</td>\n",
       "      <td>NaN</td>\n",
       "    </tr>\n",
       "    <tr>\n",
       "      <th>518</th>\n",
       "      <td>2019-12-31</td>\n",
       "      <td>NaN</td>\n",
       "      <td>NaN</td>\n",
       "      <td>NaN</td>\n",
       "      <td>NaN</td>\n",
       "    </tr>\n",
       "  </tbody>\n",
       "</table>\n",
       "</div>"
      ],
      "text/plain": [
       "          Date HighºF LowºF Precip.(inch) Snow(inch)\n",
       "153 2018-12-31    NaN   NaN           NaN        NaN\n",
       "514 2019-12-27    NaN   NaN           NaN        NaN\n",
       "515 2019-12-28    NaN   NaN           NaN        NaN\n",
       "516 2019-12-29    NaN   NaN           NaN        NaN\n",
       "517 2019-12-30    NaN   NaN           NaN        NaN\n",
       "518 2019-12-31    NaN   NaN           NaN        NaN"
      ]
     },
     "execution_count": 66,
     "metadata": {},
     "output_type": "execute_result"
    }
   ],
   "source": [
    "# displaying data only with HighºF = NaN\n",
    "df3[pd.isnull(df3['HighºF'])]\n"
   ]
  },
  {
   "cell_type": "code",
   "execution_count": 67,
   "metadata": {},
   "outputs": [
    {
     "data": {
      "text/html": [
       "<div>\n",
       "<style scoped>\n",
       "    .dataframe tbody tr th:only-of-type {\n",
       "        vertical-align: middle;\n",
       "    }\n",
       "\n",
       "    .dataframe tbody tr th {\n",
       "        vertical-align: top;\n",
       "    }\n",
       "\n",
       "    .dataframe thead th {\n",
       "        text-align: right;\n",
       "    }\n",
       "</style>\n",
       "<table border=\"1\" class=\"dataframe\">\n",
       "  <thead>\n",
       "    <tr style=\"text-align: right;\">\n",
       "      <th></th>\n",
       "      <th>Date</th>\n",
       "      <th>HighºF</th>\n",
       "      <th>LowºF</th>\n",
       "      <th>Precip.(inch)</th>\n",
       "      <th>Snow(inch)</th>\n",
       "    </tr>\n",
       "  </thead>\n",
       "  <tbody>\n",
       "    <tr>\n",
       "      <th>153</th>\n",
       "      <td>2018-12-31</td>\n",
       "      <td>NaN</td>\n",
       "      <td>NaN</td>\n",
       "      <td>NaN</td>\n",
       "      <td>NaN</td>\n",
       "    </tr>\n",
       "    <tr>\n",
       "      <th>514</th>\n",
       "      <td>2019-12-27</td>\n",
       "      <td>NaN</td>\n",
       "      <td>NaN</td>\n",
       "      <td>NaN</td>\n",
       "      <td>NaN</td>\n",
       "    </tr>\n",
       "    <tr>\n",
       "      <th>515</th>\n",
       "      <td>2019-12-28</td>\n",
       "      <td>NaN</td>\n",
       "      <td>NaN</td>\n",
       "      <td>NaN</td>\n",
       "      <td>NaN</td>\n",
       "    </tr>\n",
       "    <tr>\n",
       "      <th>516</th>\n",
       "      <td>2019-12-29</td>\n",
       "      <td>NaN</td>\n",
       "      <td>NaN</td>\n",
       "      <td>NaN</td>\n",
       "      <td>NaN</td>\n",
       "    </tr>\n",
       "    <tr>\n",
       "      <th>517</th>\n",
       "      <td>2019-12-30</td>\n",
       "      <td>NaN</td>\n",
       "      <td>NaN</td>\n",
       "      <td>NaN</td>\n",
       "      <td>NaN</td>\n",
       "    </tr>\n",
       "    <tr>\n",
       "      <th>518</th>\n",
       "      <td>2019-12-31</td>\n",
       "      <td>NaN</td>\n",
       "      <td>NaN</td>\n",
       "      <td>NaN</td>\n",
       "      <td>NaN</td>\n",
       "    </tr>\n",
       "  </tbody>\n",
       "</table>\n",
       "</div>"
      ],
      "text/plain": [
       "          Date HighºF LowºF Precip.(inch) Snow(inch)\n",
       "153 2018-12-31    NaN   NaN           NaN        NaN\n",
       "514 2019-12-27    NaN   NaN           NaN        NaN\n",
       "515 2019-12-28    NaN   NaN           NaN        NaN\n",
       "516 2019-12-29    NaN   NaN           NaN        NaN\n",
       "517 2019-12-30    NaN   NaN           NaN        NaN\n",
       "518 2019-12-31    NaN   NaN           NaN        NaN"
      ]
     },
     "execution_count": 67,
     "metadata": {},
     "output_type": "execute_result"
    }
   ],
   "source": [
    "# displaying data only with LowºF = NaN\n",
    "df3[pd.isnull(df3['LowºF'])]\n"
   ]
  },
  {
   "cell_type": "code",
   "execution_count": 68,
   "metadata": {},
   "outputs": [
    {
     "data": {
      "text/html": [
       "<div>\n",
       "<style scoped>\n",
       "    .dataframe tbody tr th:only-of-type {\n",
       "        vertical-align: middle;\n",
       "    }\n",
       "\n",
       "    .dataframe tbody tr th {\n",
       "        vertical-align: top;\n",
       "    }\n",
       "\n",
       "    .dataframe thead th {\n",
       "        text-align: right;\n",
       "    }\n",
       "</style>\n",
       "<table border=\"1\" class=\"dataframe\">\n",
       "  <thead>\n",
       "    <tr style=\"text-align: right;\">\n",
       "      <th></th>\n",
       "      <th>Date</th>\n",
       "      <th>HighºF</th>\n",
       "      <th>LowºF</th>\n",
       "      <th>Precip.(inch)</th>\n",
       "      <th>Snow(inch)</th>\n",
       "    </tr>\n",
       "  </thead>\n",
       "  <tbody>\n",
       "    <tr>\n",
       "      <th>153</th>\n",
       "      <td>2018-12-31</td>\n",
       "      <td>NaN</td>\n",
       "      <td>NaN</td>\n",
       "      <td>NaN</td>\n",
       "      <td>NaN</td>\n",
       "    </tr>\n",
       "    <tr>\n",
       "      <th>514</th>\n",
       "      <td>2019-12-27</td>\n",
       "      <td>NaN</td>\n",
       "      <td>NaN</td>\n",
       "      <td>NaN</td>\n",
       "      <td>NaN</td>\n",
       "    </tr>\n",
       "    <tr>\n",
       "      <th>515</th>\n",
       "      <td>2019-12-28</td>\n",
       "      <td>NaN</td>\n",
       "      <td>NaN</td>\n",
       "      <td>NaN</td>\n",
       "      <td>NaN</td>\n",
       "    </tr>\n",
       "    <tr>\n",
       "      <th>516</th>\n",
       "      <td>2019-12-29</td>\n",
       "      <td>NaN</td>\n",
       "      <td>NaN</td>\n",
       "      <td>NaN</td>\n",
       "      <td>NaN</td>\n",
       "    </tr>\n",
       "    <tr>\n",
       "      <th>517</th>\n",
       "      <td>2019-12-30</td>\n",
       "      <td>NaN</td>\n",
       "      <td>NaN</td>\n",
       "      <td>NaN</td>\n",
       "      <td>NaN</td>\n",
       "    </tr>\n",
       "    <tr>\n",
       "      <th>518</th>\n",
       "      <td>2019-12-31</td>\n",
       "      <td>NaN</td>\n",
       "      <td>NaN</td>\n",
       "      <td>NaN</td>\n",
       "      <td>NaN</td>\n",
       "    </tr>\n",
       "  </tbody>\n",
       "</table>\n",
       "</div>"
      ],
      "text/plain": [
       "          Date HighºF LowºF Precip.(inch) Snow(inch)\n",
       "153 2018-12-31    NaN   NaN           NaN        NaN\n",
       "514 2019-12-27    NaN   NaN           NaN        NaN\n",
       "515 2019-12-28    NaN   NaN           NaN        NaN\n",
       "516 2019-12-29    NaN   NaN           NaN        NaN\n",
       "517 2019-12-30    NaN   NaN           NaN        NaN\n",
       "518 2019-12-31    NaN   NaN           NaN        NaN"
      ]
     },
     "execution_count": 68,
     "metadata": {},
     "output_type": "execute_result"
    }
   ],
   "source": [
    "# displaying data only with Precip.(inch) = NaN\n",
    "df3[pd.isnull(df3['Precip.(inch)'])]\n"
   ]
  },
  {
   "cell_type": "code",
   "execution_count": 69,
   "metadata": {},
   "outputs": [
    {
     "data": {
      "text/html": [
       "<div>\n",
       "<style scoped>\n",
       "    .dataframe tbody tr th:only-of-type {\n",
       "        vertical-align: middle;\n",
       "    }\n",
       "\n",
       "    .dataframe tbody tr th {\n",
       "        vertical-align: top;\n",
       "    }\n",
       "\n",
       "    .dataframe thead th {\n",
       "        text-align: right;\n",
       "    }\n",
       "</style>\n",
       "<table border=\"1\" class=\"dataframe\">\n",
       "  <thead>\n",
       "    <tr style=\"text-align: right;\">\n",
       "      <th></th>\n",
       "      <th>Date</th>\n",
       "      <th>HighºF</th>\n",
       "      <th>LowºF</th>\n",
       "      <th>Precip.(inch)</th>\n",
       "      <th>Snow(inch)</th>\n",
       "    </tr>\n",
       "  </thead>\n",
       "  <tbody>\n",
       "    <tr>\n",
       "      <th>153</th>\n",
       "      <td>2018-12-31</td>\n",
       "      <td>NaN</td>\n",
       "      <td>NaN</td>\n",
       "      <td>NaN</td>\n",
       "      <td>NaN</td>\n",
       "    </tr>\n",
       "    <tr>\n",
       "      <th>514</th>\n",
       "      <td>2019-12-27</td>\n",
       "      <td>NaN</td>\n",
       "      <td>NaN</td>\n",
       "      <td>NaN</td>\n",
       "      <td>NaN</td>\n",
       "    </tr>\n",
       "    <tr>\n",
       "      <th>515</th>\n",
       "      <td>2019-12-28</td>\n",
       "      <td>NaN</td>\n",
       "      <td>NaN</td>\n",
       "      <td>NaN</td>\n",
       "      <td>NaN</td>\n",
       "    </tr>\n",
       "    <tr>\n",
       "      <th>516</th>\n",
       "      <td>2019-12-29</td>\n",
       "      <td>NaN</td>\n",
       "      <td>NaN</td>\n",
       "      <td>NaN</td>\n",
       "      <td>NaN</td>\n",
       "    </tr>\n",
       "    <tr>\n",
       "      <th>517</th>\n",
       "      <td>2019-12-30</td>\n",
       "      <td>NaN</td>\n",
       "      <td>NaN</td>\n",
       "      <td>NaN</td>\n",
       "      <td>NaN</td>\n",
       "    </tr>\n",
       "    <tr>\n",
       "      <th>518</th>\n",
       "      <td>2019-12-31</td>\n",
       "      <td>NaN</td>\n",
       "      <td>NaN</td>\n",
       "      <td>NaN</td>\n",
       "      <td>NaN</td>\n",
       "    </tr>\n",
       "  </tbody>\n",
       "</table>\n",
       "</div>"
      ],
      "text/plain": [
       "          Date HighºF LowºF Precip.(inch) Snow(inch)\n",
       "153 2018-12-31    NaN   NaN           NaN        NaN\n",
       "514 2019-12-27    NaN   NaN           NaN        NaN\n",
       "515 2019-12-28    NaN   NaN           NaN        NaN\n",
       "516 2019-12-29    NaN   NaN           NaN        NaN\n",
       "517 2019-12-30    NaN   NaN           NaN        NaN\n",
       "518 2019-12-31    NaN   NaN           NaN        NaN"
      ]
     },
     "execution_count": 69,
     "metadata": {},
     "output_type": "execute_result"
    }
   ],
   "source": [
    "# displaying data only with Snow(inch) = NaN\n",
    "df3[pd.isnull(df3['Snow(inch)'])]"
   ]
  },
  {
   "cell_type": "code",
   "execution_count": 70,
   "metadata": {},
   "outputs": [],
   "source": [
    "#Replacing NaN values with actual data from another online source consisting of weather data.\n",
    "df3.loc[153] = ['2018-12-31', 65, 44, 0.39, 0]\n",
    "df3.loc[514] = ['2019-12-27', 63, 54, 0, 0]\n",
    "df3.loc[515] = ['2019-12-28', 63, 53, 0, 0]\n",
    "df3.loc[516] = ['2019-12-29', 65, 56, 0.14, 0]\n",
    "df3.loc[517] = ['2019-12-30', 57, 39, 1.42, 0]\n",
    "df3.loc[518] = ['2019-12-31', 40, 38, 0, 0]"
   ]
  },
  {
   "cell_type": "code",
   "execution_count": 71,
   "metadata": {},
   "outputs": [
    {
     "data": {
      "text/plain": [
       "Date             2018-12-31\n",
       "HighºF                   65\n",
       "LowºF                    44\n",
       "Precip.(inch)          0.39\n",
       "Snow(inch)                0\n",
       "Name: 153, dtype: object"
      ]
     },
     "execution_count": 71,
     "metadata": {},
     "output_type": "execute_result"
    }
   ],
   "source": [
    "df3.loc[153]"
   ]
  },
  {
   "cell_type": "code",
   "execution_count": 72,
   "metadata": {},
   "outputs": [
    {
     "data": {
      "text/plain": [
       "Date             2019-12-27\n",
       "HighºF                   63\n",
       "LowºF                    54\n",
       "Precip.(inch)             0\n",
       "Snow(inch)                0\n",
       "Name: 514, dtype: object"
      ]
     },
     "execution_count": 72,
     "metadata": {},
     "output_type": "execute_result"
    }
   ],
   "source": [
    "df3.loc[514]"
   ]
  },
  {
   "cell_type": "code",
   "execution_count": 73,
   "metadata": {},
   "outputs": [
    {
     "data": {
      "text/plain": [
       "Date             2019-12-28\n",
       "HighºF                   63\n",
       "LowºF                    53\n",
       "Precip.(inch)             0\n",
       "Snow(inch)                0\n",
       "Name: 515, dtype: object"
      ]
     },
     "execution_count": 73,
     "metadata": {},
     "output_type": "execute_result"
    }
   ],
   "source": [
    "df3.loc[515]"
   ]
  },
  {
   "cell_type": "code",
   "execution_count": 74,
   "metadata": {},
   "outputs": [
    {
     "data": {
      "text/plain": [
       "Date             2019-12-29\n",
       "HighºF                   65\n",
       "LowºF                    56\n",
       "Precip.(inch)          0.14\n",
       "Snow(inch)                0\n",
       "Name: 516, dtype: object"
      ]
     },
     "execution_count": 74,
     "metadata": {},
     "output_type": "execute_result"
    }
   ],
   "source": [
    "df3.loc[516]"
   ]
  },
  {
   "cell_type": "code",
   "execution_count": 75,
   "metadata": {},
   "outputs": [
    {
     "data": {
      "text/plain": [
       "Date             2019-12-30\n",
       "HighºF                   57\n",
       "LowºF                    39\n",
       "Precip.(inch)          1.42\n",
       "Snow(inch)                0\n",
       "Name: 517, dtype: object"
      ]
     },
     "execution_count": 75,
     "metadata": {},
     "output_type": "execute_result"
    }
   ],
   "source": [
    "df3.loc[517]"
   ]
  },
  {
   "cell_type": "code",
   "execution_count": 76,
   "metadata": {},
   "outputs": [
    {
     "data": {
      "text/plain": [
       "Date             2019-12-31\n",
       "HighºF                   40\n",
       "LowºF                    38\n",
       "Precip.(inch)             0\n",
       "Snow(inch)                0\n",
       "Name: 518, dtype: object"
      ]
     },
     "execution_count": 76,
     "metadata": {},
     "output_type": "execute_result"
    }
   ],
   "source": [
    "df3.loc[518]"
   ]
  },
  {
   "cell_type": "code",
   "execution_count": 77,
   "metadata": {},
   "outputs": [
    {
     "name": "stdout",
     "output_type": "stream",
     "text": [
      "                                      TripID   StartDate StartTime  \\\n",
      "505993  81984511-f6ef-5484-9217-1ad2eaf459fa  2020-02-01       NaN   \n",
      "505994  64d25cd4-d3a0-5b01-9d9b-13e7f5ce3329  2020-02-01       NaN   \n",
      "505995  21a9ff20-081b-5bf7-b9b5-997168cf9a91  2020-02-01       NaN   \n",
      "505996  f8df92a8-44da-5306-944d-e9020e681f47  2020-02-01       NaN   \n",
      "505997  7748f3cc-ddf7-5986-8296-0cc132b6b3b9  2020-02-01       NaN   \n",
      "...                                      ...         ...       ...   \n",
      "641219  5e1716ec-36c3-58b1-9f95-83f0bd55f960  2021-01-25       NaN   \n",
      "641220  14653452-d524-5ef3-a993-e12de364fa45  2021-01-25       NaN   \n",
      "641221  a35e2aca-9d84-5a6e-90c2-b8bb00b9805a  2021-01-25       NaN   \n",
      "641222  6ee54f38-ed8d-54d0-acdb-1b42365e3d07  2021-01-25       NaN   \n",
      "641223  2ae5538f-95cb-56cf-ba67-e6ffed467652  2021-01-25       NaN   \n",
      "\n",
      "           EndDate EndTime  TripDuration  TripDistance  StartLatitude  \\\n",
      "505993  2020-02-01     NaN           4.0         0.407         38.226   \n",
      "505994  2020-02-01     NaN           0.0         0.000         38.226   \n",
      "505995  2020-02-01     NaN           3.0         0.303         38.226   \n",
      "505996  2020-02-01     NaN          14.0         0.890         38.227   \n",
      "505997  2020-02-01     NaN           5.0         0.761         38.227   \n",
      "...            ...     ...           ...           ...            ...   \n",
      "641219  2021-01-25     NaN           6.0         1.065         38.208   \n",
      "641220  2021-01-25     NaN           6.0         1.137         38.208   \n",
      "641221  2021-01-25     NaN           5.0         0.888         38.217   \n",
      "641222  2021-01-25     NaN           4.0         0.561         38.217   \n",
      "641223  2021-01-25     NaN           4.0         0.520         38.215   \n",
      "\n",
      "        StartLongitude  EndLatitude  EndLongitude  DayOfWeek  HourNum  \n",
      "505993         -85.769       38.227       -85.769          7        6  \n",
      "505994         -85.769       38.226       -85.769          7        6  \n",
      "505995         -85.769       38.227       -85.769          7        6  \n",
      "505996         -85.769       38.221       -85.763          7        6  \n",
      "505997         -85.769       38.221       -85.763          7        6  \n",
      "...                ...          ...           ...        ...      ...  \n",
      "641219         -85.754       38.217       -85.762          2       12  \n",
      "641220         -85.754       38.217       -85.762          2       12  \n",
      "641221         -85.757       38.227       -85.758          2       12  \n",
      "641222         -85.762       38.217       -85.756          2       12  \n",
      "641223         -85.759       38.217       -85.762          2       12  \n",
      "\n",
      "[135231 rows x 13 columns]\n"
     ]
    }
   ],
   "source": [
    "#Check if there are any records with NaN values in combined trip data DataFrame df12\n",
    "#print(df12.isnull().any(axis=1))\n",
    "print(df12[pd.isnull(df12['StartTime'])])"
   ]
  },
  {
   "cell_type": "markdown",
   "metadata": {},
   "source": [
    "There are **135231** records whose **StartTime** & **EndTime** values are equal to **NaN**. Hence, I have decided to drop these columns from the DataFrame **df12** as we already have HourNum column which indicates during which hour the scooter went on a trip."
   ]
  },
  {
   "cell_type": "code",
   "execution_count": 78,
   "metadata": {},
   "outputs": [],
   "source": [
    "#Dropping StartTime & EndTime columns from the DataFrame df12\n",
    "df12.drop(columns =['StartTime', 'EndTime'], inplace=True)"
   ]
  },
  {
   "cell_type": "code",
   "execution_count": 79,
   "metadata": {},
   "outputs": [
    {
     "data": {
      "text/html": [
       "<div>\n",
       "<style scoped>\n",
       "    .dataframe tbody tr th:only-of-type {\n",
       "        vertical-align: middle;\n",
       "    }\n",
       "\n",
       "    .dataframe tbody tr th {\n",
       "        vertical-align: top;\n",
       "    }\n",
       "\n",
       "    .dataframe thead th {\n",
       "        text-align: right;\n",
       "    }\n",
       "</style>\n",
       "<table border=\"1\" class=\"dataframe\">\n",
       "  <thead>\n",
       "    <tr style=\"text-align: right;\">\n",
       "      <th></th>\n",
       "      <th>TripID</th>\n",
       "      <th>StartDate</th>\n",
       "      <th>EndDate</th>\n",
       "      <th>TripDuration</th>\n",
       "      <th>TripDistance</th>\n",
       "      <th>StartLatitude</th>\n",
       "      <th>StartLongitude</th>\n",
       "      <th>EndLatitude</th>\n",
       "      <th>EndLongitude</th>\n",
       "      <th>DayOfWeek</th>\n",
       "      <th>HourNum</th>\n",
       "    </tr>\n",
       "  </thead>\n",
       "  <tbody>\n",
       "    <tr>\n",
       "      <th>0</th>\n",
       "      <td>0000045c-2677-3a7d-4b73-cad99a57</td>\n",
       "      <td>2019-06-26</td>\n",
       "      <td>2019-06-26</td>\n",
       "      <td>3.0</td>\n",
       "      <td>0.000</td>\n",
       "      <td>38.253</td>\n",
       "      <td>-85.756</td>\n",
       "      <td>38.253</td>\n",
       "      <td>-85.755</td>\n",
       "      <td>4</td>\n",
       "      <td>19</td>\n",
       "    </tr>\n",
       "    <tr>\n",
       "      <th>1</th>\n",
       "      <td>0000487b-92e6-50d6-7569-42ed3818</td>\n",
       "      <td>2019-09-22</td>\n",
       "      <td>2019-09-22</td>\n",
       "      <td>5.0</td>\n",
       "      <td>0.000</td>\n",
       "      <td>38.203</td>\n",
       "      <td>-85.752</td>\n",
       "      <td>38.204</td>\n",
       "      <td>-85.751</td>\n",
       "      <td>1</td>\n",
       "      <td>14</td>\n",
       "    </tr>\n",
       "    <tr>\n",
       "      <th>2</th>\n",
       "      <td>00006088-2579-e0d0-6a30-a15bb878</td>\n",
       "      <td>2019-08-21</td>\n",
       "      <td>2019-08-21</td>\n",
       "      <td>6.0</td>\n",
       "      <td>0.330</td>\n",
       "      <td>38.259</td>\n",
       "      <td>-85.733</td>\n",
       "      <td>38.265</td>\n",
       "      <td>-85.739</td>\n",
       "      <td>4</td>\n",
       "      <td>17</td>\n",
       "    </tr>\n",
       "    <tr>\n",
       "      <th>3</th>\n",
       "      <td>00008c1a-899b-8596-970f-9f6bf495</td>\n",
       "      <td>2019-07-03</td>\n",
       "      <td>2019-07-03</td>\n",
       "      <td>6.0</td>\n",
       "      <td>0.640</td>\n",
       "      <td>38.217</td>\n",
       "      <td>-85.757</td>\n",
       "      <td>38.221</td>\n",
       "      <td>-85.763</td>\n",
       "      <td>4</td>\n",
       "      <td>11</td>\n",
       "    </tr>\n",
       "    <tr>\n",
       "      <th>4</th>\n",
       "      <td>00009301-3225-2aea-a84a-165a480a</td>\n",
       "      <td>2019-11-22</td>\n",
       "      <td>2019-11-22</td>\n",
       "      <td>7.0</td>\n",
       "      <td>0.599</td>\n",
       "      <td>38.215</td>\n",
       "      <td>-85.759</td>\n",
       "      <td>38.222</td>\n",
       "      <td>-85.764</td>\n",
       "      <td>6</td>\n",
       "      <td>10</td>\n",
       "    </tr>\n",
       "  </tbody>\n",
       "</table>\n",
       "</div>"
      ],
      "text/plain": [
       "                             TripID   StartDate     EndDate  TripDuration  \\\n",
       "0  0000045c-2677-3a7d-4b73-cad99a57  2019-06-26  2019-06-26           3.0   \n",
       "1  0000487b-92e6-50d6-7569-42ed3818  2019-09-22  2019-09-22           5.0   \n",
       "2  00006088-2579-e0d0-6a30-a15bb878  2019-08-21  2019-08-21           6.0   \n",
       "3  00008c1a-899b-8596-970f-9f6bf495  2019-07-03  2019-07-03           6.0   \n",
       "4  00009301-3225-2aea-a84a-165a480a  2019-11-22  2019-11-22           7.0   \n",
       "\n",
       "   TripDistance  StartLatitude  StartLongitude  EndLatitude  EndLongitude  \\\n",
       "0         0.000         38.253         -85.756       38.253       -85.755   \n",
       "1         0.000         38.203         -85.752       38.204       -85.751   \n",
       "2         0.330         38.259         -85.733       38.265       -85.739   \n",
       "3         0.640         38.217         -85.757       38.221       -85.763   \n",
       "4         0.599         38.215         -85.759       38.222       -85.764   \n",
       "\n",
       "   DayOfWeek  HourNum  \n",
       "0          4       19  \n",
       "1          1       14  \n",
       "2          4       17  \n",
       "3          4       11  \n",
       "4          6       10  "
      ]
     },
     "execution_count": 79,
     "metadata": {},
     "output_type": "execute_result"
    }
   ],
   "source": [
    "df12.head()\n",
    "#print(df12[pd.isnull(df12['StartTime'])])"
   ]
  },
  {
   "cell_type": "code",
   "execution_count": 82,
   "metadata": {},
   "outputs": [
    {
     "name": "stdout",
     "output_type": "stream",
     "text": [
      "                                  TripID   StartDate EndDate  TripDuration  \\\n",
      "47061   17ea26f9-7df5-3284-8f5b-de66f2ba  2019-07-10     NaN           0.0   \n",
      "142888  4870a08c-7036-677d-067d-dc708f8b  2019-07-10     NaN           0.0   \n",
      "267343  87238031-fa69-f518-5d0d-6e80a181  2019-10-28     NaN           0.0   \n",
      "328402  a5d7e56d-af04-73e4-b0b6-e4b2dca2  2019-07-10     NaN           0.0   \n",
      "\n",
      "        TripDistance  StartLatitude  StartLongitude  EndLatitude  \\\n",
      "47061            0.0         38.225         -85.697        0.000   \n",
      "142888           0.0         38.224         -85.694        0.000   \n",
      "267343           0.0         38.262         -85.736       38.262   \n",
      "328402           0.0         38.224         -85.694        0.000   \n",
      "\n",
      "        EndLongitude  DayOfWeek  HourNum  \n",
      "47061          0.000          4       22  \n",
      "142888         0.000          4       22  \n",
      "267343       -85.736          2       14  \n",
      "328402         0.000          4       22  \n"
     ]
    }
   ],
   "source": [
    "#Checking for null values in df12\n",
    "print(df12[pd.isnull(df12['EndDate'])])"
   ]
  },
  {
   "cell_type": "markdown",
   "metadata": {},
   "source": [
    "I have decided to drop the above rows for the following reasons,\n",
    "\n",
    "1) They have no Trip end date,\n",
    "\n",
    "2) Their Trip Distance and Duration is set to zero, which means they haven't travelled anywhere,\n",
    "\n",
    "3) Their Start and End Latitude and Longitude values are ambiguous. Their Start & End valueus should remain the same if they haven't travelled anywhere, but that doesn't seem to be the case."
   ]
  },
  {
   "cell_type": "code",
   "execution_count": 86,
   "metadata": {},
   "outputs": [],
   "source": [
    "#Drop the above rows\n",
    "df12.drop([47061, 142888, 267343, 328402], inplace=True)"
   ]
  },
  {
   "cell_type": "code",
   "execution_count": 95,
   "metadata": {},
   "outputs": [
    {
     "name": "stdout",
     "output_type": "stream",
     "text": [
      "Empty DataFrame\n",
      "Columns: [TripID, StartDate, EndDate, TripDuration, TripDistance, StartLatitude, StartLongitude, EndLatitude, EndLongitude, DayOfWeek, HourNum]\n",
      "Index: []\n"
     ]
    }
   ],
   "source": [
    "print(df12[pd.isnull(df12['HourNum'])])"
   ]
  },
  {
   "cell_type": "markdown",
   "metadata": {},
   "source": [
    "DataFrame **df12** is ready  to be merged with **df3**\n",
    "\n",
    "Note: Also check for 'T' values before merging both the DataFrames."
   ]
  }
 ],
 "metadata": {
  "kernelspec": {
   "display_name": "Python 3",
   "language": "python",
   "name": "python3"
  },
  "language_info": {
   "codemirror_mode": {
    "name": "ipython",
    "version": 3
   },
   "file_extension": ".py",
   "mimetype": "text/x-python",
   "name": "python",
   "nbconvert_exporter": "python",
   "pygments_lexer": "ipython3",
   "version": "3.7.6"
  }
 },
 "nbformat": 4,
 "nbformat_minor": 4
}
