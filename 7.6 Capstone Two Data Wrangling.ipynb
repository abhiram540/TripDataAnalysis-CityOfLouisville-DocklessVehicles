{
 "cells": [
  {
   "cell_type": "code",
   "execution_count": 18,
   "metadata": {},
   "outputs": [
    {
     "name": "stdout",
     "output_type": "stream",
     "text": [
      "                             TripID   StartDate StartTime     EndDate EndTime  \\\n",
      "0  0000045c-2677-3a7d-4b73-cad99a57  2019-06-26     19:30  2019-06-26   19:30   \n",
      "1  0000487b-92e6-50d6-7569-42ed3818  2019-09-22     14:30  2019-09-22   14:30   \n",
      "2  00006088-2579-e0d0-6a30-a15bb878  2019-08-21     17:30  2019-08-21   17:30   \n",
      "3  00008c1a-899b-8596-970f-9f6bf495  2019-07-03     11:00  2019-07-03   11:15   \n",
      "4  00009301-3225-2aea-a84a-165a480a  2019-11-22     10:45  2019-11-22   11:00   \n",
      "\n",
      "   TripDuration  TripDistance  StartLatitude  StartLongitude  EndLatitude  \\\n",
      "0           3.0         0.000         38.253         -85.756       38.253   \n",
      "1           5.0         0.000         38.203         -85.752       38.204   \n",
      "2           6.0         0.330         38.259         -85.733       38.265   \n",
      "3           6.0         0.640         38.217         -85.757       38.221   \n",
      "4           7.0         0.599         38.215         -85.759       38.222   \n",
      "\n",
      "   EndLongitude  DayOfWeek  HourNum  \n",
      "0       -85.755          4       19  \n",
      "1       -85.751          1       14  \n",
      "2       -85.739          4       17  \n",
      "3       -85.763          4       11  \n",
      "4       -85.764          6       10  \n"
     ]
    }
   ],
   "source": [
    "import os\n",
    "import pandas as pd\n",
    "\n",
    "#df1 will read Trip Data from August 2018 till January 2020\n",
    "#df2 will pull trip data from February 2020 till January 2021\n",
    "#df3 will pull Louisville weather data from August 2018 - January 2021\n",
    "df1 = pd.read_csv(r'C:\\Users\\abhiram.muktineni\\Desktop\\DS\\DS Career Track docs\\Free Data Sets\\City of Louisville - escooter data\\Data Files\\DocklessTripOpenData_10.csv')\n",
    "df2 = pd.read_csv(r'C:\\Users\\abhiram.muktineni\\Desktop\\DS\\DS Career Track docs\\Free Data Sets\\City of Louisville - escooter data\\Data Files\\fuzzed-trips.csv')\n",
    "df3 = pd.read_excel(r'C:\\Users\\abhiram.muktineni\\Desktop\\DS\\DS Career Track docs\\Free Data Sets\\City of Louisville - escooter data\\City_of_Louisville_ Weather_data.xlsx')\n",
    "\n",
    "print(df1.head())\n"
   ]
  },
  {
   "cell_type": "code",
   "execution_count": 19,
   "metadata": {},
   "outputs": [
    {
     "name": "stdout",
     "output_type": "stream",
     "text": [
      "         Day  High   Low Precip.  Snow  Unnamed: 5  Unnamed: 6\n",
      "0        NaT    ºF    ºF    inch  inch         NaN         NaN\n",
      "1 2018-08-01    82    70    0.94     0         NaN         NaN\n",
      "2 2018-08-02    84    70       0     0         NaN         NaN\n",
      "3 2018-08-03  89.1  69.1       0     0         NaN         NaN\n",
      "4 2018-08-04    91    72       0     0         NaN         NaN\n"
     ]
    }
   ],
   "source": [
    "print(df3.head()) #ºF"
   ]
  },
  {
   "cell_type": "code",
   "execution_count": 20,
   "metadata": {},
   "outputs": [
    {
     "name": "stdout",
     "output_type": "stream",
     "text": [
      "         Day  High   Low Precip. Snow\n",
      "1 2018-08-01    82    70    0.94    0\n",
      "2 2018-08-02    84    70       0    0\n",
      "3 2018-08-03  89.1  69.1       0    0\n",
      "4 2018-08-04    91    72       0    0\n",
      "5 2018-08-05    93    73       0    0\n"
     ]
    }
   ],
   "source": [
    "df3.drop(['Unnamed: 5', 'Unnamed: 6'], axis = 1, inplace=True)\n",
    "df3.drop(0, axis = 0, inplace=True)\n",
    "df3.rename(index=str, columns={'Day':'Date','High':'High(ºF)', 'Low':'Low(ºF)', 'Precip.':'Precip.(inch)', 'Snow':'Snow(inch)'})\n",
    "\n",
    "print(df3.head())"
   ]
  }
 ],
 "metadata": {
  "kernelspec": {
   "display_name": "Python 3",
   "language": "python",
   "name": "python3"
  },
  "language_info": {
   "codemirror_mode": {
    "name": "ipython",
    "version": 3
   },
   "file_extension": ".py",
   "mimetype": "text/x-python",
   "name": "python",
   "nbconvert_exporter": "python",
   "pygments_lexer": "ipython3",
   "version": "3.7.6"
  }
 },
 "nbformat": 4,
 "nbformat_minor": 4
}
