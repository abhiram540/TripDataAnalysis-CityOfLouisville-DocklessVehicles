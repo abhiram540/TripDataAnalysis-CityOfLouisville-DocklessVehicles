{
 "cells": [
  {
   "cell_type": "code",
   "execution_count": 1,
   "metadata": {},
   "outputs": [
    {
     "name": "stdout",
     "output_type": "stream",
     "text": [
      "                             TripID  StartDate StartTime     EndDate EndTime  \\\n",
      "0  0000045c-2677-3a7d-4b73-cad99a57 2019-06-26     19:30   6/26/2019   19:30   \n",
      "1  0000487b-92e6-50d6-7569-42ed3818 2019-09-22     14:30   9/22/2019   14:30   \n",
      "2  00006088-2579-e0d0-6a30-a15bb878 2019-08-21     17:30   8/21/2019   17:30   \n",
      "3  00008c1a-899b-8596-970f-9f6bf495 2019-07-03     11:00    7/3/2019   11:15   \n",
      "4  00009301-3225-2aea-a84a-165a480a 2019-11-22     10:45  11/22/2019   11:00   \n",
      "\n",
      "   TripDuration  TripDistance  StartLatitude  StartLongitude  EndLatitude  \\\n",
      "0             3         0.000         38.253         -85.756       38.253   \n",
      "1             5         0.000         38.203         -85.752       38.204   \n",
      "2             6         0.330         38.259         -85.733       38.265   \n",
      "3             6         0.640         38.217         -85.757       38.221   \n",
      "4             7         0.599         38.215         -85.759       38.222   \n",
      "\n",
      "   EndLongitude  DayOfWeek  HourNum  \n",
      "0       -85.755          4       19  \n",
      "1       -85.751          1       14  \n",
      "2       -85.739          4       17  \n",
      "3       -85.763          4       11  \n",
      "4       -85.764          6       10  \n"
     ]
    }
   ],
   "source": [
    "import os\n",
    "import pandas as pd\n",
    "\n",
    "#df1 will read Trip Data from August 2018 till January 2020\n",
    "#df2 will pull trip data from February 2020 till January 2021\n",
    "#df3 will pull Louisville weather data from August 2018 - January 2021\n",
    "df1 = pd.read_csv(r'C:\\Users\\abhir\\OneDrive\\Documents\\DS\\DS Career Track docs\\Free Data Sets\\City of Louisville - escooter data\\Data Files\\DocklessTripOpenData_10.csv', parse_dates = ['StartDate'])\n",
    "df2 = pd.read_csv(r'C:\\Users\\abhir\\OneDrive\\Documents\\DS\\DS Career Track docs\\Free Data Sets\\City of Louisville - escooter data\\Data Files\\fuzzed-trips.csv', parse_dates = ['StartDate'])\n",
    "df3 = pd.read_excel(r'C:\\Users\\abhir\\OneDrive\\Documents\\DS\\DS Career Track docs\\Free Data Sets\\City of Louisville - escooter data\\City_of_Louisville_ Weather_data.xlsx', parse_dates = ['Day'])\n",
    "\n",
    "print(df1.head())\n"
   ]
  },
  {
   "cell_type": "code",
   "execution_count": 2,
   "metadata": {},
   "outputs": [
    {
     "name": "stdout",
     "output_type": "stream",
     "text": [
      "         Day  High   Low Precip.  Snow  Unnamed: 5  Unnamed: 6\n",
      "0        NaT    ºF    ºF    inch  inch         NaN         NaN\n",
      "1 2018-08-01    82    70    0.94     0         NaN         NaN\n",
      "2 2018-08-02    84    70       0     0         NaN         NaN\n",
      "3 2018-08-03  89.1  69.1       0     0         NaN         NaN\n",
      "4 2018-08-04    91    72       0     0         NaN         NaN\n"
     ]
    }
   ],
   "source": [
    "print(df3.head()) #ºF"
   ]
  },
  {
   "cell_type": "code",
   "execution_count": 3,
   "metadata": {},
   "outputs": [
    {
     "name": "stdout",
     "output_type": "stream",
     "text": [
      "        Date HighºF LowºF Precip.(inch) Snow(inch)  Unnamed: 5  Unnamed: 6\n",
      "1 2018-08-01     82    70          0.94          0         NaN         NaN\n",
      "2 2018-08-02     84    70             0          0         NaN         NaN\n",
      "3 2018-08-03   89.1  69.1             0          0         NaN         NaN\n",
      "4 2018-08-04     91    72             0          0         NaN         NaN\n",
      "5 2018-08-05     93    73             0          0         NaN         NaN\n"
     ]
    }
   ],
   "source": [
    "#df3.drop(['Unnamed: 5', 'Unnamed: 6'], axis = 1, inplace=True)\n",
    "df3.drop(0, axis = 0, inplace=True)\n",
    "df3.rename(columns={'Day':'Date','High':'HighºF', 'Low':'LowºF', 'Precip.':'Precip.(inch)', 'Snow':'Snow(inch)'}, inplace=True)\n",
    "#df3.reset_index(inplace=True)\n",
    "print(df3.head())"
   ]
  },
  {
   "cell_type": "code",
   "execution_count": 4,
   "metadata": {},
   "outputs": [
    {
     "name": "stdout",
     "output_type": "stream",
     "text": [
      "                                 TripID                 StartDate  StartTime  \\\n",
      "0  81984511-f6ef-5484-9217-1ad2eaf459fa 2020-02-01 11:00:00+00:00        NaN   \n",
      "1  64d25cd4-d3a0-5b01-9d9b-13e7f5ce3329 2020-02-01 11:00:00+00:00        NaN   \n",
      "2  21a9ff20-081b-5bf7-b9b5-997168cf9a91 2020-02-01 11:00:00+00:00        NaN   \n",
      "3  f8df92a8-44da-5306-944d-e9020e681f47 2020-02-01 11:15:00+00:00        NaN   \n",
      "4  7748f3cc-ddf7-5986-8296-0cc132b6b3b9 2020-02-01 11:15:00+00:00        NaN   \n",
      "\n",
      "                    EndDate  EndTime  TripDuration  TripDistance  \\\n",
      "0  2020-02-01T11:15:00.000Z      NaN             4         0.407   \n",
      "1  2020-02-01T11:00:00.000Z      NaN             0         0.000   \n",
      "2  2020-02-01T11:15:00.000Z      NaN             3         0.303   \n",
      "3  2020-02-01T11:30:00.000Z      NaN            14         0.890   \n",
      "4  2020-02-01T11:15:00.000Z      NaN             5         0.761   \n",
      "\n",
      "   StartLatitude  StartLongitude  EndLatitude  EndLongitude  DayOfWeek  \\\n",
      "0         38.226         -85.769       38.227       -85.769          7   \n",
      "1         38.226         -85.769       38.226       -85.769          7   \n",
      "2         38.226         -85.769       38.227       -85.769          7   \n",
      "3         38.227         -85.769       38.221       -85.763          7   \n",
      "4         38.227         -85.769       38.221       -85.763          7   \n",
      "\n",
      "   HourNum  \n",
      "0        6  \n",
      "1        6  \n",
      "2        6  \n",
      "3        6  \n",
      "4        6  \n"
     ]
    }
   ],
   "source": [
    "print(df2.head())"
   ]
  },
  {
   "cell_type": "markdown",
   "metadata": {},
   "source": [
    "If you observe carefully the format of data in **StartDate** & **EndDate** columns in both **df1** & **df2** DataFrames are different. **df1** has its date format as **'YYYY-MM-DD'**, whereas **df2** has its date format as **'YYYY-MM-DD'T'HH:mm:ss.SSS'Z''**. We need to make changes to **StartDate** & **StartDate** columns in the **df2** DataFrame to reflecct the same format as that of in **df1** DataFrame."
   ]
  },
  {
   "cell_type": "code",
   "execution_count": 5,
   "metadata": {
    "scrolled": true
   },
   "outputs": [
    {
     "data": {
      "text/html": [
       "<div>\n",
       "<style scoped>\n",
       "    .dataframe tbody tr th:only-of-type {\n",
       "        vertical-align: middle;\n",
       "    }\n",
       "\n",
       "    .dataframe tbody tr th {\n",
       "        vertical-align: top;\n",
       "    }\n",
       "\n",
       "    .dataframe thead th {\n",
       "        text-align: right;\n",
       "    }\n",
       "</style>\n",
       "<table border=\"1\" class=\"dataframe\">\n",
       "  <thead>\n",
       "    <tr style=\"text-align: right;\">\n",
       "      <th></th>\n",
       "      <th>TripID</th>\n",
       "      <th>StartDate</th>\n",
       "      <th>StartTime</th>\n",
       "      <th>EndDate</th>\n",
       "      <th>EndTime</th>\n",
       "      <th>TripDuration</th>\n",
       "      <th>TripDistance</th>\n",
       "      <th>StartLatitude</th>\n",
       "      <th>StartLongitude</th>\n",
       "      <th>EndLatitude</th>\n",
       "      <th>EndLongitude</th>\n",
       "      <th>DayOfWeek</th>\n",
       "      <th>HourNum</th>\n",
       "    </tr>\n",
       "  </thead>\n",
       "  <tbody>\n",
       "    <tr>\n",
       "      <th>0</th>\n",
       "      <td>81984511-f6ef-5484-9217-1ad2eaf459fa</td>\n",
       "      <td>2020-02-01</td>\n",
       "      <td>NaN</td>\n",
       "      <td>2020-02-01</td>\n",
       "      <td>NaN</td>\n",
       "      <td>4</td>\n",
       "      <td>0.407</td>\n",
       "      <td>38.226</td>\n",
       "      <td>-85.769</td>\n",
       "      <td>38.227</td>\n",
       "      <td>-85.769</td>\n",
       "      <td>7</td>\n",
       "      <td>6</td>\n",
       "    </tr>\n",
       "    <tr>\n",
       "      <th>1</th>\n",
       "      <td>64d25cd4-d3a0-5b01-9d9b-13e7f5ce3329</td>\n",
       "      <td>2020-02-01</td>\n",
       "      <td>NaN</td>\n",
       "      <td>2020-02-01</td>\n",
       "      <td>NaN</td>\n",
       "      <td>0</td>\n",
       "      <td>0.000</td>\n",
       "      <td>38.226</td>\n",
       "      <td>-85.769</td>\n",
       "      <td>38.226</td>\n",
       "      <td>-85.769</td>\n",
       "      <td>7</td>\n",
       "      <td>6</td>\n",
       "    </tr>\n",
       "    <tr>\n",
       "      <th>2</th>\n",
       "      <td>21a9ff20-081b-5bf7-b9b5-997168cf9a91</td>\n",
       "      <td>2020-02-01</td>\n",
       "      <td>NaN</td>\n",
       "      <td>2020-02-01</td>\n",
       "      <td>NaN</td>\n",
       "      <td>3</td>\n",
       "      <td>0.303</td>\n",
       "      <td>38.226</td>\n",
       "      <td>-85.769</td>\n",
       "      <td>38.227</td>\n",
       "      <td>-85.769</td>\n",
       "      <td>7</td>\n",
       "      <td>6</td>\n",
       "    </tr>\n",
       "    <tr>\n",
       "      <th>3</th>\n",
       "      <td>f8df92a8-44da-5306-944d-e9020e681f47</td>\n",
       "      <td>2020-02-01</td>\n",
       "      <td>NaN</td>\n",
       "      <td>2020-02-01</td>\n",
       "      <td>NaN</td>\n",
       "      <td>14</td>\n",
       "      <td>0.890</td>\n",
       "      <td>38.227</td>\n",
       "      <td>-85.769</td>\n",
       "      <td>38.221</td>\n",
       "      <td>-85.763</td>\n",
       "      <td>7</td>\n",
       "      <td>6</td>\n",
       "    </tr>\n",
       "    <tr>\n",
       "      <th>4</th>\n",
       "      <td>7748f3cc-ddf7-5986-8296-0cc132b6b3b9</td>\n",
       "      <td>2020-02-01</td>\n",
       "      <td>NaN</td>\n",
       "      <td>2020-02-01</td>\n",
       "      <td>NaN</td>\n",
       "      <td>5</td>\n",
       "      <td>0.761</td>\n",
       "      <td>38.227</td>\n",
       "      <td>-85.769</td>\n",
       "      <td>38.221</td>\n",
       "      <td>-85.763</td>\n",
       "      <td>7</td>\n",
       "      <td>6</td>\n",
       "    </tr>\n",
       "  </tbody>\n",
       "</table>\n",
       "</div>"
      ],
      "text/plain": [
       "                                 TripID   StartDate  StartTime     EndDate  \\\n",
       "0  81984511-f6ef-5484-9217-1ad2eaf459fa  2020-02-01        NaN  2020-02-01   \n",
       "1  64d25cd4-d3a0-5b01-9d9b-13e7f5ce3329  2020-02-01        NaN  2020-02-01   \n",
       "2  21a9ff20-081b-5bf7-b9b5-997168cf9a91  2020-02-01        NaN  2020-02-01   \n",
       "3  f8df92a8-44da-5306-944d-e9020e681f47  2020-02-01        NaN  2020-02-01   \n",
       "4  7748f3cc-ddf7-5986-8296-0cc132b6b3b9  2020-02-01        NaN  2020-02-01   \n",
       "\n",
       "   EndTime  TripDuration  TripDistance  StartLatitude  StartLongitude  \\\n",
       "0      NaN             4         0.407         38.226         -85.769   \n",
       "1      NaN             0         0.000         38.226         -85.769   \n",
       "2      NaN             3         0.303         38.226         -85.769   \n",
       "3      NaN            14         0.890         38.227         -85.769   \n",
       "4      NaN             5         0.761         38.227         -85.769   \n",
       "\n",
       "   EndLatitude  EndLongitude  DayOfWeek  HourNum  \n",
       "0       38.227       -85.769          7        6  \n",
       "1       38.226       -85.769          7        6  \n",
       "2       38.227       -85.769          7        6  \n",
       "3       38.221       -85.763          7        6  \n",
       "4       38.221       -85.763          7        6  "
      ]
     },
     "execution_count": 5,
     "metadata": {},
     "output_type": "execute_result"
    }
   ],
   "source": [
    "#type(df2['StartDate'])\n",
    "df2['StartDate'] = pd.to_datetime(df2['StartDate'])\n",
    "df2['EndDate'] = pd.to_datetime(df2['EndDate'])\n",
    "df2['StartDate'] = df2['StartDate'].dt.strftime('%Y-%m-%d')\n",
    "df2['EndDate'] = df2['EndDate'].dt.strftime('%Y-%m-%d')\n",
    "df2.head()"
   ]
  },
  {
   "cell_type": "code",
   "execution_count": 6,
   "metadata": {},
   "outputs": [
    {
     "data": {
      "text/html": [
       "<div>\n",
       "<style scoped>\n",
       "    .dataframe tbody tr th:only-of-type {\n",
       "        vertical-align: middle;\n",
       "    }\n",
       "\n",
       "    .dataframe tbody tr th {\n",
       "        vertical-align: top;\n",
       "    }\n",
       "\n",
       "    .dataframe thead th {\n",
       "        text-align: right;\n",
       "    }\n",
       "</style>\n",
       "<table border=\"1\" class=\"dataframe\">\n",
       "  <thead>\n",
       "    <tr style=\"text-align: right;\">\n",
       "      <th></th>\n",
       "      <th>TripID</th>\n",
       "      <th>StartDate</th>\n",
       "      <th>StartTime</th>\n",
       "      <th>EndDate</th>\n",
       "      <th>EndTime</th>\n",
       "      <th>TripDuration</th>\n",
       "      <th>TripDistance</th>\n",
       "      <th>StartLatitude</th>\n",
       "      <th>StartLongitude</th>\n",
       "      <th>EndLatitude</th>\n",
       "      <th>EndLongitude</th>\n",
       "      <th>DayOfWeek</th>\n",
       "      <th>HourNum</th>\n",
       "    </tr>\n",
       "  </thead>\n",
       "  <tbody>\n",
       "    <tr>\n",
       "      <th>0</th>\n",
       "      <td>0000045c-2677-3a7d-4b73-cad99a57</td>\n",
       "      <td>2019-06-26</td>\n",
       "      <td>19:30</td>\n",
       "      <td>6/26/2019</td>\n",
       "      <td>19:30</td>\n",
       "      <td>3</td>\n",
       "      <td>0.000</td>\n",
       "      <td>38.253</td>\n",
       "      <td>-85.756</td>\n",
       "      <td>38.253</td>\n",
       "      <td>-85.755</td>\n",
       "      <td>4</td>\n",
       "      <td>19</td>\n",
       "    </tr>\n",
       "    <tr>\n",
       "      <th>1</th>\n",
       "      <td>0000487b-92e6-50d6-7569-42ed3818</td>\n",
       "      <td>2019-09-22</td>\n",
       "      <td>14:30</td>\n",
       "      <td>9/22/2019</td>\n",
       "      <td>14:30</td>\n",
       "      <td>5</td>\n",
       "      <td>0.000</td>\n",
       "      <td>38.203</td>\n",
       "      <td>-85.752</td>\n",
       "      <td>38.204</td>\n",
       "      <td>-85.751</td>\n",
       "      <td>1</td>\n",
       "      <td>14</td>\n",
       "    </tr>\n",
       "    <tr>\n",
       "      <th>2</th>\n",
       "      <td>00006088-2579-e0d0-6a30-a15bb878</td>\n",
       "      <td>2019-08-21</td>\n",
       "      <td>17:30</td>\n",
       "      <td>8/21/2019</td>\n",
       "      <td>17:30</td>\n",
       "      <td>6</td>\n",
       "      <td>0.330</td>\n",
       "      <td>38.259</td>\n",
       "      <td>-85.733</td>\n",
       "      <td>38.265</td>\n",
       "      <td>-85.739</td>\n",
       "      <td>4</td>\n",
       "      <td>17</td>\n",
       "    </tr>\n",
       "    <tr>\n",
       "      <th>3</th>\n",
       "      <td>00008c1a-899b-8596-970f-9f6bf495</td>\n",
       "      <td>2019-07-03</td>\n",
       "      <td>11:00</td>\n",
       "      <td>7/3/2019</td>\n",
       "      <td>11:15</td>\n",
       "      <td>6</td>\n",
       "      <td>0.640</td>\n",
       "      <td>38.217</td>\n",
       "      <td>-85.757</td>\n",
       "      <td>38.221</td>\n",
       "      <td>-85.763</td>\n",
       "      <td>4</td>\n",
       "      <td>11</td>\n",
       "    </tr>\n",
       "    <tr>\n",
       "      <th>4</th>\n",
       "      <td>00009301-3225-2aea-a84a-165a480a</td>\n",
       "      <td>2019-11-22</td>\n",
       "      <td>10:45</td>\n",
       "      <td>11/22/2019</td>\n",
       "      <td>11:00</td>\n",
       "      <td>7</td>\n",
       "      <td>0.599</td>\n",
       "      <td>38.215</td>\n",
       "      <td>-85.759</td>\n",
       "      <td>38.222</td>\n",
       "      <td>-85.764</td>\n",
       "      <td>6</td>\n",
       "      <td>10</td>\n",
       "    </tr>\n",
       "  </tbody>\n",
       "</table>\n",
       "</div>"
      ],
      "text/plain": [
       "                             TripID   StartDate StartTime     EndDate EndTime  \\\n",
       "0  0000045c-2677-3a7d-4b73-cad99a57  2019-06-26     19:30   6/26/2019   19:30   \n",
       "1  0000487b-92e6-50d6-7569-42ed3818  2019-09-22     14:30   9/22/2019   14:30   \n",
       "2  00006088-2579-e0d0-6a30-a15bb878  2019-08-21     17:30   8/21/2019   17:30   \n",
       "3  00008c1a-899b-8596-970f-9f6bf495  2019-07-03     11:00    7/3/2019   11:15   \n",
       "4  00009301-3225-2aea-a84a-165a480a  2019-11-22     10:45  11/22/2019   11:00   \n",
       "\n",
       "   TripDuration  TripDistance  StartLatitude  StartLongitude  EndLatitude  \\\n",
       "0             3         0.000         38.253         -85.756       38.253   \n",
       "1             5         0.000         38.203         -85.752       38.204   \n",
       "2             6         0.330         38.259         -85.733       38.265   \n",
       "3             6         0.640         38.217         -85.757       38.221   \n",
       "4             7         0.599         38.215         -85.759       38.222   \n",
       "\n",
       "   EndLongitude  DayOfWeek  HourNum  \n",
       "0       -85.755          4       19  \n",
       "1       -85.751          1       14  \n",
       "2       -85.739          4       17  \n",
       "3       -85.763          4       11  \n",
       "4       -85.764          6       10  "
      ]
     },
     "execution_count": 6,
     "metadata": {},
     "output_type": "execute_result"
    }
   ],
   "source": [
    "df1['StartDate'] = pd.to_datetime(df1['StartDate'])\n",
    "df1['StartDate'] = df1['StartDate'].dt.strftime('%Y-%m-%d')\n",
    "df1.head()"
   ]
  },
  {
   "cell_type": "code",
   "execution_count": 7,
   "metadata": {},
   "outputs": [
    {
     "name": "stdout",
     "output_type": "stream",
     "text": [
      "                                      TripID   StartDate StartTime  \\\n",
      "0           0000045c-2677-3a7d-4b73-cad99a57  2019-06-26     19:30   \n",
      "1           0000487b-92e6-50d6-7569-42ed3818  2019-09-22     14:30   \n",
      "2           00006088-2579-e0d0-6a30-a15bb878  2019-08-21     17:30   \n",
      "3           00008c1a-899b-8596-970f-9f6bf495  2019-07-03     11:00   \n",
      "4           00009301-3225-2aea-a84a-165a480a  2019-11-22     10:45   \n",
      "...                                      ...         ...       ...   \n",
      "641218  9e1ea446-109f-56c5-963d-e3623c7cd783  2021-01-25       NaN   \n",
      "641219  5e1716ec-36c3-58b1-9f95-83f0bd55f960  2021-01-25       NaN   \n",
      "641220  14653452-d524-5ef3-a993-e12de364fa45  2021-01-25       NaN   \n",
      "641221  a35e2aca-9d84-5a6e-90c2-b8bb00b9805a  2021-01-25       NaN   \n",
      "641222  6ee54f38-ed8d-54d0-acdb-1b42365e3d07  2021-01-25       NaN   \n",
      "\n",
      "           EndDate EndTime  TripDuration  TripDistance  StartLatitude  \\\n",
      "0        6/26/2019   19:30             3         0.000         38.253   \n",
      "1        9/22/2019   14:30             5         0.000         38.203   \n",
      "2        8/21/2019   17:30             6         0.330         38.259   \n",
      "3         7/3/2019   11:15             6         0.640         38.217   \n",
      "4       11/22/2019   11:00             7         0.599         38.215   \n",
      "...            ...     ...           ...           ...            ...   \n",
      "641218  2021-01-25     NaN             2         0.348         38.217   \n",
      "641219  2021-01-25     NaN             6         1.065         38.208   \n",
      "641220  2021-01-25     NaN             6         1.137         38.208   \n",
      "641221  2021-01-25     NaN             5         0.888         38.217   \n",
      "641222  2021-01-25     NaN             4         0.561         38.217   \n",
      "\n",
      "        StartLongitude  EndLatitude  EndLongitude  DayOfWeek  HourNum  \n",
      "0              -85.756       38.253       -85.755          4       19  \n",
      "1              -85.752       38.204       -85.751          1       14  \n",
      "2              -85.733       38.265       -85.739          4       17  \n",
      "3              -85.757       38.221       -85.763          4       11  \n",
      "4              -85.759       38.222       -85.764          6       10  \n",
      "...                ...          ...           ...        ...      ...  \n",
      "641218         -85.757       38.215       -85.759          2       11  \n",
      "641219         -85.754       38.217       -85.762          2       12  \n",
      "641220         -85.754       38.217       -85.762          2       12  \n",
      "641221         -85.757       38.227       -85.758          2       12  \n",
      "641222         -85.762       38.217       -85.756          2       12  \n",
      "\n",
      "[641223 rows x 13 columns]\n"
     ]
    }
   ],
   "source": [
    "# Concatinating DataFrames df1 & df2 into a single DataFrame\n",
    "df12 = pd.concat([df1, df2], ignore_index=True)\n",
    "print(df12.head(-1))\n"
   ]
  },
  {
   "cell_type": "code",
   "execution_count": 8,
   "metadata": {},
   "outputs": [
    {
     "data": {
      "text/html": [
       "<div>\n",
       "<style scoped>\n",
       "    .dataframe tbody tr th:only-of-type {\n",
       "        vertical-align: middle;\n",
       "    }\n",
       "\n",
       "    .dataframe tbody tr th {\n",
       "        vertical-align: top;\n",
       "    }\n",
       "\n",
       "    .dataframe thead th {\n",
       "        text-align: right;\n",
       "    }\n",
       "</style>\n",
       "<table border=\"1\" class=\"dataframe\">\n",
       "  <thead>\n",
       "    <tr style=\"text-align: right;\">\n",
       "      <th></th>\n",
       "      <th>Date</th>\n",
       "      <th>HighºF</th>\n",
       "      <th>LowºF</th>\n",
       "      <th>Precip.(inch)</th>\n",
       "      <th>Snow(inch)</th>\n",
       "      <th>Unnamed: 5</th>\n",
       "      <th>Unnamed: 6</th>\n",
       "    </tr>\n",
       "  </thead>\n",
       "  <tbody>\n",
       "  </tbody>\n",
       "</table>\n",
       "</div>"
      ],
      "text/plain": [
       "Empty DataFrame\n",
       "Columns: [Date, HighºF, LowºF, Precip.(inch), Snow(inch), Unnamed: 5, Unnamed: 6]\n",
       "Index: []"
      ]
     },
     "execution_count": 8,
     "metadata": {},
     "output_type": "execute_result"
    }
   ],
   "source": [
    "#Checking if there are any NULL or NaN values in the dataframe containing weather data\n",
    "# filtering data\n",
    "# displaying data only with Date = NaN\n",
    "df3[pd.isnull(df3['Date'])]"
   ]
  },
  {
   "cell_type": "code",
   "execution_count": 9,
   "metadata": {},
   "outputs": [
    {
     "data": {
      "text/html": [
       "<div>\n",
       "<style scoped>\n",
       "    .dataframe tbody tr th:only-of-type {\n",
       "        vertical-align: middle;\n",
       "    }\n",
       "\n",
       "    .dataframe tbody tr th {\n",
       "        vertical-align: top;\n",
       "    }\n",
       "\n",
       "    .dataframe thead th {\n",
       "        text-align: right;\n",
       "    }\n",
       "</style>\n",
       "<table border=\"1\" class=\"dataframe\">\n",
       "  <thead>\n",
       "    <tr style=\"text-align: right;\">\n",
       "      <th></th>\n",
       "      <th>Date</th>\n",
       "      <th>HighºF</th>\n",
       "      <th>LowºF</th>\n",
       "      <th>Precip.(inch)</th>\n",
       "      <th>Snow(inch)</th>\n",
       "    </tr>\n",
       "  </thead>\n",
       "  <tbody>\n",
       "    <tr>\n",
       "      <th>1</th>\n",
       "      <td>2018-08-01</td>\n",
       "      <td>82</td>\n",
       "      <td>70</td>\n",
       "      <td>0.94</td>\n",
       "      <td>0</td>\n",
       "    </tr>\n",
       "    <tr>\n",
       "      <th>2</th>\n",
       "      <td>2018-08-02</td>\n",
       "      <td>84</td>\n",
       "      <td>70</td>\n",
       "      <td>0</td>\n",
       "      <td>0</td>\n",
       "    </tr>\n",
       "    <tr>\n",
       "      <th>3</th>\n",
       "      <td>2018-08-03</td>\n",
       "      <td>89.1</td>\n",
       "      <td>69.1</td>\n",
       "      <td>0</td>\n",
       "      <td>0</td>\n",
       "    </tr>\n",
       "    <tr>\n",
       "      <th>4</th>\n",
       "      <td>2018-08-04</td>\n",
       "      <td>91</td>\n",
       "      <td>72</td>\n",
       "      <td>0</td>\n",
       "      <td>0</td>\n",
       "    </tr>\n",
       "    <tr>\n",
       "      <th>5</th>\n",
       "      <td>2018-08-05</td>\n",
       "      <td>93</td>\n",
       "      <td>73</td>\n",
       "      <td>0</td>\n",
       "      <td>0</td>\n",
       "    </tr>\n",
       "  </tbody>\n",
       "</table>\n",
       "</div>"
      ],
      "text/plain": [
       "        Date HighºF LowºF Precip.(inch) Snow(inch)\n",
       "1 2018-08-01     82    70          0.94          0\n",
       "2 2018-08-02     84    70             0          0\n",
       "3 2018-08-03   89.1  69.1             0          0\n",
       "4 2018-08-04     91    72             0          0\n",
       "5 2018-08-05     93    73             0          0"
      ]
     },
     "execution_count": 9,
     "metadata": {},
     "output_type": "execute_result"
    }
   ],
   "source": [
    "df3.drop(columns = ['Unnamed: 5', 'Unnamed: 6'], inplace=True)\n",
    "df3.head()"
   ]
  },
  {
   "cell_type": "code",
   "execution_count": 10,
   "metadata": {},
   "outputs": [
    {
     "data": {
      "text/html": [
       "<div>\n",
       "<style scoped>\n",
       "    .dataframe tbody tr th:only-of-type {\n",
       "        vertical-align: middle;\n",
       "    }\n",
       "\n",
       "    .dataframe tbody tr th {\n",
       "        vertical-align: top;\n",
       "    }\n",
       "\n",
       "    .dataframe thead th {\n",
       "        text-align: right;\n",
       "    }\n",
       "</style>\n",
       "<table border=\"1\" class=\"dataframe\">\n",
       "  <thead>\n",
       "    <tr style=\"text-align: right;\">\n",
       "      <th></th>\n",
       "      <th>Date</th>\n",
       "      <th>HighºF</th>\n",
       "      <th>LowºF</th>\n",
       "      <th>Precip.(inch)</th>\n",
       "      <th>Snow(inch)</th>\n",
       "    </tr>\n",
       "  </thead>\n",
       "  <tbody>\n",
       "    <tr>\n",
       "      <th>153</th>\n",
       "      <td>2018-12-31</td>\n",
       "      <td>NaN</td>\n",
       "      <td>NaN</td>\n",
       "      <td>NaN</td>\n",
       "      <td>NaN</td>\n",
       "    </tr>\n",
       "    <tr>\n",
       "      <th>514</th>\n",
       "      <td>2019-12-27</td>\n",
       "      <td>NaN</td>\n",
       "      <td>NaN</td>\n",
       "      <td>NaN</td>\n",
       "      <td>NaN</td>\n",
       "    </tr>\n",
       "    <tr>\n",
       "      <th>515</th>\n",
       "      <td>2019-12-28</td>\n",
       "      <td>NaN</td>\n",
       "      <td>NaN</td>\n",
       "      <td>NaN</td>\n",
       "      <td>NaN</td>\n",
       "    </tr>\n",
       "    <tr>\n",
       "      <th>516</th>\n",
       "      <td>2019-12-29</td>\n",
       "      <td>NaN</td>\n",
       "      <td>NaN</td>\n",
       "      <td>NaN</td>\n",
       "      <td>NaN</td>\n",
       "    </tr>\n",
       "    <tr>\n",
       "      <th>517</th>\n",
       "      <td>2019-12-30</td>\n",
       "      <td>NaN</td>\n",
       "      <td>NaN</td>\n",
       "      <td>NaN</td>\n",
       "      <td>NaN</td>\n",
       "    </tr>\n",
       "    <tr>\n",
       "      <th>518</th>\n",
       "      <td>2019-12-31</td>\n",
       "      <td>NaN</td>\n",
       "      <td>NaN</td>\n",
       "      <td>NaN</td>\n",
       "      <td>NaN</td>\n",
       "    </tr>\n",
       "  </tbody>\n",
       "</table>\n",
       "</div>"
      ],
      "text/plain": [
       "          Date HighºF LowºF Precip.(inch) Snow(inch)\n",
       "153 2018-12-31    NaN   NaN           NaN        NaN\n",
       "514 2019-12-27    NaN   NaN           NaN        NaN\n",
       "515 2019-12-28    NaN   NaN           NaN        NaN\n",
       "516 2019-12-29    NaN   NaN           NaN        NaN\n",
       "517 2019-12-30    NaN   NaN           NaN        NaN\n",
       "518 2019-12-31    NaN   NaN           NaN        NaN"
      ]
     },
     "execution_count": 10,
     "metadata": {},
     "output_type": "execute_result"
    }
   ],
   "source": [
    "# displaying data only with HighºF = NaN\n",
    "df3[pd.isnull(df3['HighºF'])]\n"
   ]
  },
  {
   "cell_type": "code",
   "execution_count": 11,
   "metadata": {},
   "outputs": [
    {
     "data": {
      "text/html": [
       "<div>\n",
       "<style scoped>\n",
       "    .dataframe tbody tr th:only-of-type {\n",
       "        vertical-align: middle;\n",
       "    }\n",
       "\n",
       "    .dataframe tbody tr th {\n",
       "        vertical-align: top;\n",
       "    }\n",
       "\n",
       "    .dataframe thead th {\n",
       "        text-align: right;\n",
       "    }\n",
       "</style>\n",
       "<table border=\"1\" class=\"dataframe\">\n",
       "  <thead>\n",
       "    <tr style=\"text-align: right;\">\n",
       "      <th></th>\n",
       "      <th>Date</th>\n",
       "      <th>HighºF</th>\n",
       "      <th>LowºF</th>\n",
       "      <th>Precip.(inch)</th>\n",
       "      <th>Snow(inch)</th>\n",
       "    </tr>\n",
       "  </thead>\n",
       "  <tbody>\n",
       "    <tr>\n",
       "      <th>153</th>\n",
       "      <td>2018-12-31</td>\n",
       "      <td>NaN</td>\n",
       "      <td>NaN</td>\n",
       "      <td>NaN</td>\n",
       "      <td>NaN</td>\n",
       "    </tr>\n",
       "    <tr>\n",
       "      <th>514</th>\n",
       "      <td>2019-12-27</td>\n",
       "      <td>NaN</td>\n",
       "      <td>NaN</td>\n",
       "      <td>NaN</td>\n",
       "      <td>NaN</td>\n",
       "    </tr>\n",
       "    <tr>\n",
       "      <th>515</th>\n",
       "      <td>2019-12-28</td>\n",
       "      <td>NaN</td>\n",
       "      <td>NaN</td>\n",
       "      <td>NaN</td>\n",
       "      <td>NaN</td>\n",
       "    </tr>\n",
       "    <tr>\n",
       "      <th>516</th>\n",
       "      <td>2019-12-29</td>\n",
       "      <td>NaN</td>\n",
       "      <td>NaN</td>\n",
       "      <td>NaN</td>\n",
       "      <td>NaN</td>\n",
       "    </tr>\n",
       "    <tr>\n",
       "      <th>517</th>\n",
       "      <td>2019-12-30</td>\n",
       "      <td>NaN</td>\n",
       "      <td>NaN</td>\n",
       "      <td>NaN</td>\n",
       "      <td>NaN</td>\n",
       "    </tr>\n",
       "    <tr>\n",
       "      <th>518</th>\n",
       "      <td>2019-12-31</td>\n",
       "      <td>NaN</td>\n",
       "      <td>NaN</td>\n",
       "      <td>NaN</td>\n",
       "      <td>NaN</td>\n",
       "    </tr>\n",
       "  </tbody>\n",
       "</table>\n",
       "</div>"
      ],
      "text/plain": [
       "          Date HighºF LowºF Precip.(inch) Snow(inch)\n",
       "153 2018-12-31    NaN   NaN           NaN        NaN\n",
       "514 2019-12-27    NaN   NaN           NaN        NaN\n",
       "515 2019-12-28    NaN   NaN           NaN        NaN\n",
       "516 2019-12-29    NaN   NaN           NaN        NaN\n",
       "517 2019-12-30    NaN   NaN           NaN        NaN\n",
       "518 2019-12-31    NaN   NaN           NaN        NaN"
      ]
     },
     "execution_count": 11,
     "metadata": {},
     "output_type": "execute_result"
    }
   ],
   "source": [
    "# displaying data only with LowºF = NaN\n",
    "df3[pd.isnull(df3['LowºF'])]\n"
   ]
  },
  {
   "cell_type": "code",
   "execution_count": 12,
   "metadata": {},
   "outputs": [
    {
     "data": {
      "text/html": [
       "<div>\n",
       "<style scoped>\n",
       "    .dataframe tbody tr th:only-of-type {\n",
       "        vertical-align: middle;\n",
       "    }\n",
       "\n",
       "    .dataframe tbody tr th {\n",
       "        vertical-align: top;\n",
       "    }\n",
       "\n",
       "    .dataframe thead th {\n",
       "        text-align: right;\n",
       "    }\n",
       "</style>\n",
       "<table border=\"1\" class=\"dataframe\">\n",
       "  <thead>\n",
       "    <tr style=\"text-align: right;\">\n",
       "      <th></th>\n",
       "      <th>Date</th>\n",
       "      <th>HighºF</th>\n",
       "      <th>LowºF</th>\n",
       "      <th>Precip.(inch)</th>\n",
       "      <th>Snow(inch)</th>\n",
       "    </tr>\n",
       "  </thead>\n",
       "  <tbody>\n",
       "    <tr>\n",
       "      <th>153</th>\n",
       "      <td>2018-12-31</td>\n",
       "      <td>NaN</td>\n",
       "      <td>NaN</td>\n",
       "      <td>NaN</td>\n",
       "      <td>NaN</td>\n",
       "    </tr>\n",
       "    <tr>\n",
       "      <th>514</th>\n",
       "      <td>2019-12-27</td>\n",
       "      <td>NaN</td>\n",
       "      <td>NaN</td>\n",
       "      <td>NaN</td>\n",
       "      <td>NaN</td>\n",
       "    </tr>\n",
       "    <tr>\n",
       "      <th>515</th>\n",
       "      <td>2019-12-28</td>\n",
       "      <td>NaN</td>\n",
       "      <td>NaN</td>\n",
       "      <td>NaN</td>\n",
       "      <td>NaN</td>\n",
       "    </tr>\n",
       "    <tr>\n",
       "      <th>516</th>\n",
       "      <td>2019-12-29</td>\n",
       "      <td>NaN</td>\n",
       "      <td>NaN</td>\n",
       "      <td>NaN</td>\n",
       "      <td>NaN</td>\n",
       "    </tr>\n",
       "    <tr>\n",
       "      <th>517</th>\n",
       "      <td>2019-12-30</td>\n",
       "      <td>NaN</td>\n",
       "      <td>NaN</td>\n",
       "      <td>NaN</td>\n",
       "      <td>NaN</td>\n",
       "    </tr>\n",
       "    <tr>\n",
       "      <th>518</th>\n",
       "      <td>2019-12-31</td>\n",
       "      <td>NaN</td>\n",
       "      <td>NaN</td>\n",
       "      <td>NaN</td>\n",
       "      <td>NaN</td>\n",
       "    </tr>\n",
       "  </tbody>\n",
       "</table>\n",
       "</div>"
      ],
      "text/plain": [
       "          Date HighºF LowºF Precip.(inch) Snow(inch)\n",
       "153 2018-12-31    NaN   NaN           NaN        NaN\n",
       "514 2019-12-27    NaN   NaN           NaN        NaN\n",
       "515 2019-12-28    NaN   NaN           NaN        NaN\n",
       "516 2019-12-29    NaN   NaN           NaN        NaN\n",
       "517 2019-12-30    NaN   NaN           NaN        NaN\n",
       "518 2019-12-31    NaN   NaN           NaN        NaN"
      ]
     },
     "execution_count": 12,
     "metadata": {},
     "output_type": "execute_result"
    }
   ],
   "source": [
    "# displaying data only with Precip.(inch) = NaN\n",
    "df3[pd.isnull(df3['Precip.(inch)'])]\n"
   ]
  },
  {
   "cell_type": "code",
   "execution_count": 13,
   "metadata": {},
   "outputs": [
    {
     "data": {
      "text/html": [
       "<div>\n",
       "<style scoped>\n",
       "    .dataframe tbody tr th:only-of-type {\n",
       "        vertical-align: middle;\n",
       "    }\n",
       "\n",
       "    .dataframe tbody tr th {\n",
       "        vertical-align: top;\n",
       "    }\n",
       "\n",
       "    .dataframe thead th {\n",
       "        text-align: right;\n",
       "    }\n",
       "</style>\n",
       "<table border=\"1\" class=\"dataframe\">\n",
       "  <thead>\n",
       "    <tr style=\"text-align: right;\">\n",
       "      <th></th>\n",
       "      <th>Date</th>\n",
       "      <th>HighºF</th>\n",
       "      <th>LowºF</th>\n",
       "      <th>Precip.(inch)</th>\n",
       "      <th>Snow(inch)</th>\n",
       "    </tr>\n",
       "  </thead>\n",
       "  <tbody>\n",
       "    <tr>\n",
       "      <th>153</th>\n",
       "      <td>2018-12-31</td>\n",
       "      <td>NaN</td>\n",
       "      <td>NaN</td>\n",
       "      <td>NaN</td>\n",
       "      <td>NaN</td>\n",
       "    </tr>\n",
       "    <tr>\n",
       "      <th>514</th>\n",
       "      <td>2019-12-27</td>\n",
       "      <td>NaN</td>\n",
       "      <td>NaN</td>\n",
       "      <td>NaN</td>\n",
       "      <td>NaN</td>\n",
       "    </tr>\n",
       "    <tr>\n",
       "      <th>515</th>\n",
       "      <td>2019-12-28</td>\n",
       "      <td>NaN</td>\n",
       "      <td>NaN</td>\n",
       "      <td>NaN</td>\n",
       "      <td>NaN</td>\n",
       "    </tr>\n",
       "    <tr>\n",
       "      <th>516</th>\n",
       "      <td>2019-12-29</td>\n",
       "      <td>NaN</td>\n",
       "      <td>NaN</td>\n",
       "      <td>NaN</td>\n",
       "      <td>NaN</td>\n",
       "    </tr>\n",
       "    <tr>\n",
       "      <th>517</th>\n",
       "      <td>2019-12-30</td>\n",
       "      <td>NaN</td>\n",
       "      <td>NaN</td>\n",
       "      <td>NaN</td>\n",
       "      <td>NaN</td>\n",
       "    </tr>\n",
       "    <tr>\n",
       "      <th>518</th>\n",
       "      <td>2019-12-31</td>\n",
       "      <td>NaN</td>\n",
       "      <td>NaN</td>\n",
       "      <td>NaN</td>\n",
       "      <td>NaN</td>\n",
       "    </tr>\n",
       "  </tbody>\n",
       "</table>\n",
       "</div>"
      ],
      "text/plain": [
       "          Date HighºF LowºF Precip.(inch) Snow(inch)\n",
       "153 2018-12-31    NaN   NaN           NaN        NaN\n",
       "514 2019-12-27    NaN   NaN           NaN        NaN\n",
       "515 2019-12-28    NaN   NaN           NaN        NaN\n",
       "516 2019-12-29    NaN   NaN           NaN        NaN\n",
       "517 2019-12-30    NaN   NaN           NaN        NaN\n",
       "518 2019-12-31    NaN   NaN           NaN        NaN"
      ]
     },
     "execution_count": 13,
     "metadata": {},
     "output_type": "execute_result"
    }
   ],
   "source": [
    "# displaying data only with Snow(inch) = NaN\n",
    "df3[pd.isnull(df3['Snow(inch)'])]"
   ]
  },
  {
   "cell_type": "code",
   "execution_count": 14,
   "metadata": {},
   "outputs": [],
   "source": [
    "#Replacing NaN values with actual data from another online source consisting of weather data.\n",
    "df3.loc[153] = ['2018-12-31', 65, 44, 0.39, 0]\n",
    "df3.loc[514] = ['2019-12-27', 63, 54, 0, 0]\n",
    "df3.loc[515] = ['2019-12-28', 63, 53, 0, 0]\n",
    "df3.loc[516] = ['2019-12-29', 65, 56, 0.14, 0]\n",
    "df3.loc[517] = ['2019-12-30', 57, 39, 1.42, 0]\n",
    "df3.loc[518] = ['2019-12-31', 40, 38, 0, 0]"
   ]
  },
  {
   "cell_type": "code",
   "execution_count": 15,
   "metadata": {},
   "outputs": [
    {
     "data": {
      "text/plain": [
       "'2018-12-31'"
      ]
     },
     "execution_count": 15,
     "metadata": {},
     "output_type": "execute_result"
    }
   ],
   "source": [
    "df3.loc[153][0]"
   ]
  },
  {
   "cell_type": "code",
   "execution_count": 16,
   "metadata": {},
   "outputs": [
    {
     "data": {
      "text/plain": [
       "Date             2018-12-31\n",
       "HighºF                   65\n",
       "LowºF                    44\n",
       "Precip.(inch)          0.39\n",
       "Snow(inch)                0\n",
       "Name: 153, dtype: object"
      ]
     },
     "execution_count": 16,
     "metadata": {},
     "output_type": "execute_result"
    }
   ],
   "source": [
    "df3.loc[153]"
   ]
  },
  {
   "cell_type": "code",
   "execution_count": 17,
   "metadata": {},
   "outputs": [
    {
     "data": {
      "text/plain": [
       "Date             2019-12-27\n",
       "HighºF                   63\n",
       "LowºF                    54\n",
       "Precip.(inch)             0\n",
       "Snow(inch)                0\n",
       "Name: 514, dtype: object"
      ]
     },
     "execution_count": 17,
     "metadata": {},
     "output_type": "execute_result"
    }
   ],
   "source": [
    "df3.loc[514]"
   ]
  },
  {
   "cell_type": "code",
   "execution_count": 18,
   "metadata": {},
   "outputs": [
    {
     "data": {
      "text/plain": [
       "Date             2019-12-28\n",
       "HighºF                   63\n",
       "LowºF                    53\n",
       "Precip.(inch)             0\n",
       "Snow(inch)                0\n",
       "Name: 515, dtype: object"
      ]
     },
     "execution_count": 18,
     "metadata": {},
     "output_type": "execute_result"
    }
   ],
   "source": [
    "df3.loc[515]"
   ]
  },
  {
   "cell_type": "code",
   "execution_count": 19,
   "metadata": {},
   "outputs": [
    {
     "data": {
      "text/plain": [
       "Date             2019-12-29\n",
       "HighºF                   65\n",
       "LowºF                    56\n",
       "Precip.(inch)          0.14\n",
       "Snow(inch)                0\n",
       "Name: 516, dtype: object"
      ]
     },
     "execution_count": 19,
     "metadata": {},
     "output_type": "execute_result"
    }
   ],
   "source": [
    "df3.loc[516]"
   ]
  },
  {
   "cell_type": "code",
   "execution_count": 20,
   "metadata": {},
   "outputs": [
    {
     "data": {
      "text/plain": [
       "Date             2019-12-30\n",
       "HighºF                   57\n",
       "LowºF                    39\n",
       "Precip.(inch)          1.42\n",
       "Snow(inch)                0\n",
       "Name: 517, dtype: object"
      ]
     },
     "execution_count": 20,
     "metadata": {},
     "output_type": "execute_result"
    }
   ],
   "source": [
    "df3.loc[517]"
   ]
  },
  {
   "cell_type": "code",
   "execution_count": 21,
   "metadata": {},
   "outputs": [
    {
     "data": {
      "text/plain": [
       "Date             2019-12-31\n",
       "HighºF                   40\n",
       "LowºF                    38\n",
       "Precip.(inch)             0\n",
       "Snow(inch)                0\n",
       "Name: 518, dtype: object"
      ]
     },
     "execution_count": 21,
     "metadata": {},
     "output_type": "execute_result"
    }
   ],
   "source": [
    "df3.loc[518]"
   ]
  },
  {
   "cell_type": "code",
   "execution_count": 22,
   "metadata": {},
   "outputs": [
    {
     "name": "stdout",
     "output_type": "stream",
     "text": [
      "                                      TripID   StartDate StartTime  \\\n",
      "505993  81984511-f6ef-5484-9217-1ad2eaf459fa  2020-02-01       NaN   \n",
      "505994  64d25cd4-d3a0-5b01-9d9b-13e7f5ce3329  2020-02-01       NaN   \n",
      "505995  21a9ff20-081b-5bf7-b9b5-997168cf9a91  2020-02-01       NaN   \n",
      "505996  f8df92a8-44da-5306-944d-e9020e681f47  2020-02-01       NaN   \n",
      "505997  7748f3cc-ddf7-5986-8296-0cc132b6b3b9  2020-02-01       NaN   \n",
      "...                                      ...         ...       ...   \n",
      "641219  5e1716ec-36c3-58b1-9f95-83f0bd55f960  2021-01-25       NaN   \n",
      "641220  14653452-d524-5ef3-a993-e12de364fa45  2021-01-25       NaN   \n",
      "641221  a35e2aca-9d84-5a6e-90c2-b8bb00b9805a  2021-01-25       NaN   \n",
      "641222  6ee54f38-ed8d-54d0-acdb-1b42365e3d07  2021-01-25       NaN   \n",
      "641223  2ae5538f-95cb-56cf-ba67-e6ffed467652  2021-01-25       NaN   \n",
      "\n",
      "           EndDate EndTime  TripDuration  TripDistance  StartLatitude  \\\n",
      "505993  2020-02-01     NaN             4         0.407         38.226   \n",
      "505994  2020-02-01     NaN             0         0.000         38.226   \n",
      "505995  2020-02-01     NaN             3         0.303         38.226   \n",
      "505996  2020-02-01     NaN            14         0.890         38.227   \n",
      "505997  2020-02-01     NaN             5         0.761         38.227   \n",
      "...            ...     ...           ...           ...            ...   \n",
      "641219  2021-01-25     NaN             6         1.065         38.208   \n",
      "641220  2021-01-25     NaN             6         1.137         38.208   \n",
      "641221  2021-01-25     NaN             5         0.888         38.217   \n",
      "641222  2021-01-25     NaN             4         0.561         38.217   \n",
      "641223  2021-01-25     NaN             4         0.520         38.215   \n",
      "\n",
      "        StartLongitude  EndLatitude  EndLongitude  DayOfWeek  HourNum  \n",
      "505993         -85.769       38.227       -85.769          7        6  \n",
      "505994         -85.769       38.226       -85.769          7        6  \n",
      "505995         -85.769       38.227       -85.769          7        6  \n",
      "505996         -85.769       38.221       -85.763          7        6  \n",
      "505997         -85.769       38.221       -85.763          7        6  \n",
      "...                ...          ...           ...        ...      ...  \n",
      "641219         -85.754       38.217       -85.762          2       12  \n",
      "641220         -85.754       38.217       -85.762          2       12  \n",
      "641221         -85.757       38.227       -85.758          2       12  \n",
      "641222         -85.762       38.217       -85.756          2       12  \n",
      "641223         -85.759       38.217       -85.762          2       12  \n",
      "\n",
      "[135231 rows x 13 columns]\n"
     ]
    }
   ],
   "source": [
    "#Check if there are any records with NaN values in combined trip data DataFrame df12\n",
    "#print(df12.isnull().any(axis=1))\n",
    "print(df12[pd.isnull(df12['StartTime'])])"
   ]
  },
  {
   "cell_type": "markdown",
   "metadata": {},
   "source": [
    "There are **135231** records whose **StartTime** & **EndTime** values are equal to **NaN**. Hence, I have decided to drop these columns from the DataFrame **df12** as we already have HourNum column which indicates during which hour the scooter went on a trip."
   ]
  },
  {
   "cell_type": "code",
   "execution_count": 23,
   "metadata": {},
   "outputs": [],
   "source": [
    "#Dropping StartTime & EndTime columns from the DataFrame df12\n",
    "df12.drop(columns =['StartTime', 'EndTime'], inplace=True)"
   ]
  },
  {
   "cell_type": "code",
   "execution_count": 24,
   "metadata": {},
   "outputs": [
    {
     "data": {
      "text/html": [
       "<div>\n",
       "<style scoped>\n",
       "    .dataframe tbody tr th:only-of-type {\n",
       "        vertical-align: middle;\n",
       "    }\n",
       "\n",
       "    .dataframe tbody tr th {\n",
       "        vertical-align: top;\n",
       "    }\n",
       "\n",
       "    .dataframe thead th {\n",
       "        text-align: right;\n",
       "    }\n",
       "</style>\n",
       "<table border=\"1\" class=\"dataframe\">\n",
       "  <thead>\n",
       "    <tr style=\"text-align: right;\">\n",
       "      <th></th>\n",
       "      <th>TripID</th>\n",
       "      <th>StartDate</th>\n",
       "      <th>EndDate</th>\n",
       "      <th>TripDuration</th>\n",
       "      <th>TripDistance</th>\n",
       "      <th>StartLatitude</th>\n",
       "      <th>StartLongitude</th>\n",
       "      <th>EndLatitude</th>\n",
       "      <th>EndLongitude</th>\n",
       "      <th>DayOfWeek</th>\n",
       "      <th>HourNum</th>\n",
       "    </tr>\n",
       "  </thead>\n",
       "  <tbody>\n",
       "    <tr>\n",
       "      <th>0</th>\n",
       "      <td>0000045c-2677-3a7d-4b73-cad99a57</td>\n",
       "      <td>2019-06-26</td>\n",
       "      <td>6/26/2019</td>\n",
       "      <td>3</td>\n",
       "      <td>0.000</td>\n",
       "      <td>38.253</td>\n",
       "      <td>-85.756</td>\n",
       "      <td>38.253</td>\n",
       "      <td>-85.755</td>\n",
       "      <td>4</td>\n",
       "      <td>19</td>\n",
       "    </tr>\n",
       "    <tr>\n",
       "      <th>1</th>\n",
       "      <td>0000487b-92e6-50d6-7569-42ed3818</td>\n",
       "      <td>2019-09-22</td>\n",
       "      <td>9/22/2019</td>\n",
       "      <td>5</td>\n",
       "      <td>0.000</td>\n",
       "      <td>38.203</td>\n",
       "      <td>-85.752</td>\n",
       "      <td>38.204</td>\n",
       "      <td>-85.751</td>\n",
       "      <td>1</td>\n",
       "      <td>14</td>\n",
       "    </tr>\n",
       "    <tr>\n",
       "      <th>2</th>\n",
       "      <td>00006088-2579-e0d0-6a30-a15bb878</td>\n",
       "      <td>2019-08-21</td>\n",
       "      <td>8/21/2019</td>\n",
       "      <td>6</td>\n",
       "      <td>0.330</td>\n",
       "      <td>38.259</td>\n",
       "      <td>-85.733</td>\n",
       "      <td>38.265</td>\n",
       "      <td>-85.739</td>\n",
       "      <td>4</td>\n",
       "      <td>17</td>\n",
       "    </tr>\n",
       "    <tr>\n",
       "      <th>3</th>\n",
       "      <td>00008c1a-899b-8596-970f-9f6bf495</td>\n",
       "      <td>2019-07-03</td>\n",
       "      <td>7/3/2019</td>\n",
       "      <td>6</td>\n",
       "      <td>0.640</td>\n",
       "      <td>38.217</td>\n",
       "      <td>-85.757</td>\n",
       "      <td>38.221</td>\n",
       "      <td>-85.763</td>\n",
       "      <td>4</td>\n",
       "      <td>11</td>\n",
       "    </tr>\n",
       "    <tr>\n",
       "      <th>4</th>\n",
       "      <td>00009301-3225-2aea-a84a-165a480a</td>\n",
       "      <td>2019-11-22</td>\n",
       "      <td>11/22/2019</td>\n",
       "      <td>7</td>\n",
       "      <td>0.599</td>\n",
       "      <td>38.215</td>\n",
       "      <td>-85.759</td>\n",
       "      <td>38.222</td>\n",
       "      <td>-85.764</td>\n",
       "      <td>6</td>\n",
       "      <td>10</td>\n",
       "    </tr>\n",
       "  </tbody>\n",
       "</table>\n",
       "</div>"
      ],
      "text/plain": [
       "                             TripID   StartDate     EndDate  TripDuration  \\\n",
       "0  0000045c-2677-3a7d-4b73-cad99a57  2019-06-26   6/26/2019             3   \n",
       "1  0000487b-92e6-50d6-7569-42ed3818  2019-09-22   9/22/2019             5   \n",
       "2  00006088-2579-e0d0-6a30-a15bb878  2019-08-21   8/21/2019             6   \n",
       "3  00008c1a-899b-8596-970f-9f6bf495  2019-07-03    7/3/2019             6   \n",
       "4  00009301-3225-2aea-a84a-165a480a  2019-11-22  11/22/2019             7   \n",
       "\n",
       "   TripDistance  StartLatitude  StartLongitude  EndLatitude  EndLongitude  \\\n",
       "0         0.000         38.253         -85.756       38.253       -85.755   \n",
       "1         0.000         38.203         -85.752       38.204       -85.751   \n",
       "2         0.330         38.259         -85.733       38.265       -85.739   \n",
       "3         0.640         38.217         -85.757       38.221       -85.763   \n",
       "4         0.599         38.215         -85.759       38.222       -85.764   \n",
       "\n",
       "   DayOfWeek  HourNum  \n",
       "0          4       19  \n",
       "1          1       14  \n",
       "2          4       17  \n",
       "3          4       11  \n",
       "4          6       10  "
      ]
     },
     "execution_count": 24,
     "metadata": {},
     "output_type": "execute_result"
    }
   ],
   "source": [
    "df12.head()\n",
    "#print(df12[pd.isnull(df12['StartTime'])])"
   ]
  },
  {
   "cell_type": "code",
   "execution_count": 25,
   "metadata": {},
   "outputs": [
    {
     "name": "stdout",
     "output_type": "stream",
     "text": [
      "                                  TripID   StartDate EndDate  TripDuration  \\\n",
      "47061   17ea26f9-7df5-3284-8f5b-de66f2ba  2019-07-10     NaN             0   \n",
      "142888  4870a08c-7036-677d-067d-dc708f8b  2019-07-10     NaN             0   \n",
      "267343  87238031-fa69-f518-5d0d-6e80a181  2019-10-28     NaN             0   \n",
      "328402  a5d7e56d-af04-73e4-b0b6-e4b2dca2  2019-07-10     NaN             0   \n",
      "\n",
      "        TripDistance  StartLatitude  StartLongitude  EndLatitude  \\\n",
      "47061            0.0         38.225         -85.697        0.000   \n",
      "142888           0.0         38.224         -85.694        0.000   \n",
      "267343           0.0         38.262         -85.736       38.262   \n",
      "328402           0.0         38.224         -85.694        0.000   \n",
      "\n",
      "        EndLongitude  DayOfWeek  HourNum  \n",
      "47061          0.000          4       22  \n",
      "142888         0.000          4       22  \n",
      "267343       -85.736          2       14  \n",
      "328402         0.000          4       22  \n"
     ]
    }
   ],
   "source": [
    "#Checking for null values in df12\n",
    "print(df12[pd.isnull(df12['EndDate'])])"
   ]
  },
  {
   "cell_type": "markdown",
   "metadata": {},
   "source": [
    "I have decided to drop the above rows for the following reasons,\n",
    "\n",
    "1) They have no Trip end date,\n",
    "\n",
    "2) Their Trip Distance and Duration is set to zero, which means they haven't travelled anywhere,\n",
    "\n",
    "3) Their Start and End Latitude and Longitude values are ambiguous. Their Start & End valueus should remain the same if they haven't travelled anywhere, but that doesn't seem to be the case."
   ]
  },
  {
   "cell_type": "code",
   "execution_count": 26,
   "metadata": {},
   "outputs": [],
   "source": [
    "#Drop the above rows\n",
    "df12.drop([47061, 142888, 267343, 328402], inplace=True)"
   ]
  },
  {
   "cell_type": "code",
   "execution_count": 27,
   "metadata": {},
   "outputs": [
    {
     "name": "stdout",
     "output_type": "stream",
     "text": [
      "Empty DataFrame\n",
      "Columns: [TripID, StartDate, EndDate, TripDuration, TripDistance, StartLatitude, StartLongitude, EndLatitude, EndLongitude, DayOfWeek, HourNum]\n",
      "Index: []\n"
     ]
    }
   ],
   "source": [
    "print(df12[pd.isnull(df12['HourNum'])])"
   ]
  },
  {
   "cell_type": "markdown",
   "metadata": {},
   "source": [
    "DataFrame **df12** is ready  to be merged with **df3**\n",
    "\n",
    "Note: Also check for 'T' values before merging both the DataFrames."
   ]
  },
  {
   "cell_type": "code",
   "execution_count": 28,
   "metadata": {},
   "outputs": [
    {
     "data": {
      "text/html": [
       "<div>\n",
       "<style scoped>\n",
       "    .dataframe tbody tr th:only-of-type {\n",
       "        vertical-align: middle;\n",
       "    }\n",
       "\n",
       "    .dataframe tbody tr th {\n",
       "        vertical-align: top;\n",
       "    }\n",
       "\n",
       "    .dataframe thead th {\n",
       "        text-align: right;\n",
       "    }\n",
       "</style>\n",
       "<table border=\"1\" class=\"dataframe\">\n",
       "  <thead>\n",
       "    <tr style=\"text-align: right;\">\n",
       "      <th></th>\n",
       "      <th>Date</th>\n",
       "      <th>HighºF</th>\n",
       "      <th>LowºF</th>\n",
       "      <th>Precip.(inch)</th>\n",
       "      <th>Snow(inch)</th>\n",
       "    </tr>\n",
       "  </thead>\n",
       "  <tbody>\n",
       "  </tbody>\n",
       "</table>\n",
       "</div>"
      ],
      "text/plain": [
       "Empty DataFrame\n",
       "Columns: [Date, HighºF, LowºF, Precip.(inch), Snow(inch)]\n",
       "Index: []"
      ]
     },
     "execution_count": 28,
     "metadata": {},
     "output_type": "execute_result"
    }
   ],
   "source": [
    "#Checking for 'T' values in weather data Date \tHighºF \tLowºF \tPrecip.(inch) \tSnow(inch)\n",
    "df3.loc[df3['Date'] == 'T']"
   ]
  },
  {
   "cell_type": "code",
   "execution_count": 29,
   "metadata": {},
   "outputs": [
    {
     "data": {
      "text/html": [
       "<div>\n",
       "<style scoped>\n",
       "    .dataframe tbody tr th:only-of-type {\n",
       "        vertical-align: middle;\n",
       "    }\n",
       "\n",
       "    .dataframe tbody tr th {\n",
       "        vertical-align: top;\n",
       "    }\n",
       "\n",
       "    .dataframe thead th {\n",
       "        text-align: right;\n",
       "    }\n",
       "</style>\n",
       "<table border=\"1\" class=\"dataframe\">\n",
       "  <thead>\n",
       "    <tr style=\"text-align: right;\">\n",
       "      <th></th>\n",
       "      <th>Date</th>\n",
       "      <th>HighºF</th>\n",
       "      <th>LowºF</th>\n",
       "      <th>Precip.(inch)</th>\n",
       "      <th>Snow(inch)</th>\n",
       "    </tr>\n",
       "  </thead>\n",
       "  <tbody>\n",
       "  </tbody>\n",
       "</table>\n",
       "</div>"
      ],
      "text/plain": [
       "Empty DataFrame\n",
       "Columns: [Date, HighºF, LowºF, Precip.(inch), Snow(inch)]\n",
       "Index: []"
      ]
     },
     "execution_count": 29,
     "metadata": {},
     "output_type": "execute_result"
    }
   ],
   "source": [
    "df3.loc[df3['HighºF'] == 'T']"
   ]
  },
  {
   "cell_type": "code",
   "execution_count": 30,
   "metadata": {},
   "outputs": [
    {
     "data": {
      "text/html": [
       "<div>\n",
       "<style scoped>\n",
       "    .dataframe tbody tr th:only-of-type {\n",
       "        vertical-align: middle;\n",
       "    }\n",
       "\n",
       "    .dataframe tbody tr th {\n",
       "        vertical-align: top;\n",
       "    }\n",
       "\n",
       "    .dataframe thead th {\n",
       "        text-align: right;\n",
       "    }\n",
       "</style>\n",
       "<table border=\"1\" class=\"dataframe\">\n",
       "  <thead>\n",
       "    <tr style=\"text-align: right;\">\n",
       "      <th></th>\n",
       "      <th>Date</th>\n",
       "      <th>HighºF</th>\n",
       "      <th>LowºF</th>\n",
       "      <th>Precip.(inch)</th>\n",
       "      <th>Snow(inch)</th>\n",
       "    </tr>\n",
       "  </thead>\n",
       "  <tbody>\n",
       "  </tbody>\n",
       "</table>\n",
       "</div>"
      ],
      "text/plain": [
       "Empty DataFrame\n",
       "Columns: [Date, HighºF, LowºF, Precip.(inch), Snow(inch)]\n",
       "Index: []"
      ]
     },
     "execution_count": 30,
     "metadata": {},
     "output_type": "execute_result"
    }
   ],
   "source": [
    "df3.loc[df3['LowºF'] == 'T']"
   ]
  },
  {
   "cell_type": "code",
   "execution_count": 31,
   "metadata": {},
   "outputs": [],
   "source": [
    "#pd.set_option('display.max_rows', None) #For displaying all the rows from the dataframe"
   ]
  },
  {
   "cell_type": "code",
   "execution_count": 32,
   "metadata": {},
   "outputs": [],
   "source": [
    "#pd.options.display.max_rows\n",
    "#pd.reset_option('display.max_rows') --->This will reset back to previous display limit"
   ]
  },
  {
   "cell_type": "code",
   "execution_count": 33,
   "metadata": {},
   "outputs": [
    {
     "data": {
      "text/html": [
       "<div>\n",
       "<style scoped>\n",
       "    .dataframe tbody tr th:only-of-type {\n",
       "        vertical-align: middle;\n",
       "    }\n",
       "\n",
       "    .dataframe tbody tr th {\n",
       "        vertical-align: top;\n",
       "    }\n",
       "\n",
       "    .dataframe thead th {\n",
       "        text-align: right;\n",
       "    }\n",
       "</style>\n",
       "<table border=\"1\" class=\"dataframe\">\n",
       "  <thead>\n",
       "    <tr style=\"text-align: right;\">\n",
       "      <th></th>\n",
       "      <th>Date</th>\n",
       "      <th>HighºF</th>\n",
       "      <th>LowºF</th>\n",
       "      <th>Precip.(inch)</th>\n",
       "      <th>Snow(inch)</th>\n",
       "    </tr>\n",
       "  </thead>\n",
       "  <tbody>\n",
       "    <tr>\n",
       "      <th>7</th>\n",
       "      <td>2018-08-07 00:00:00</td>\n",
       "      <td>88</td>\n",
       "      <td>75.9</td>\n",
       "      <td>T</td>\n",
       "      <td>0</td>\n",
       "    </tr>\n",
       "    <tr>\n",
       "      <th>10</th>\n",
       "      <td>2018-08-10 00:00:00</td>\n",
       "      <td>86</td>\n",
       "      <td>71.1</td>\n",
       "      <td>T</td>\n",
       "      <td>0</td>\n",
       "    </tr>\n",
       "    <tr>\n",
       "      <th>17</th>\n",
       "      <td>2018-08-17 00:00:00</td>\n",
       "      <td>87.1</td>\n",
       "      <td>75.9</td>\n",
       "      <td>T</td>\n",
       "      <td>0</td>\n",
       "    </tr>\n",
       "    <tr>\n",
       "      <th>24</th>\n",
       "      <td>2018-08-24 00:00:00</td>\n",
       "      <td>78.1</td>\n",
       "      <td>61</td>\n",
       "      <td>T</td>\n",
       "      <td>0</td>\n",
       "    </tr>\n",
       "    <tr>\n",
       "      <th>36</th>\n",
       "      <td>2018-09-05 00:00:00</td>\n",
       "      <td>90</td>\n",
       "      <td>75.9</td>\n",
       "      <td>T</td>\n",
       "      <td>0</td>\n",
       "    </tr>\n",
       "    <tr>\n",
       "      <th>...</th>\n",
       "      <td>...</td>\n",
       "      <td>...</td>\n",
       "      <td>...</td>\n",
       "      <td>...</td>\n",
       "      <td>...</td>\n",
       "    </tr>\n",
       "    <tr>\n",
       "      <th>458</th>\n",
       "      <td>2019-11-01 00:00:00</td>\n",
       "      <td>50</td>\n",
       "      <td>30</td>\n",
       "      <td>T</td>\n",
       "      <td>T</td>\n",
       "    </tr>\n",
       "    <tr>\n",
       "      <th>475</th>\n",
       "      <td>2019-11-18 00:00:00</td>\n",
       "      <td>46</td>\n",
       "      <td>37</td>\n",
       "      <td>T</td>\n",
       "      <td>0</td>\n",
       "    </tr>\n",
       "    <tr>\n",
       "      <th>481</th>\n",
       "      <td>2019-11-24 00:00:00</td>\n",
       "      <td>52</td>\n",
       "      <td>35.1</td>\n",
       "      <td>T</td>\n",
       "      <td>0</td>\n",
       "    </tr>\n",
       "    <tr>\n",
       "      <th>485</th>\n",
       "      <td>2019-11-28 00:00:00</td>\n",
       "      <td>42.1</td>\n",
       "      <td>35.1</td>\n",
       "      <td>T</td>\n",
       "      <td>0</td>\n",
       "    </tr>\n",
       "    <tr>\n",
       "      <th>497</th>\n",
       "      <td>2019-12-10 00:00:00</td>\n",
       "      <td>55</td>\n",
       "      <td>25</td>\n",
       "      <td>T</td>\n",
       "      <td>0</td>\n",
       "    </tr>\n",
       "  </tbody>\n",
       "</table>\n",
       "<p>68 rows × 5 columns</p>\n",
       "</div>"
      ],
      "text/plain": [
       "                    Date HighºF LowºF Precip.(inch) Snow(inch)\n",
       "7    2018-08-07 00:00:00     88  75.9             T          0\n",
       "10   2018-08-10 00:00:00     86  71.1             T          0\n",
       "17   2018-08-17 00:00:00   87.1  75.9             T          0\n",
       "24   2018-08-24 00:00:00   78.1    61             T          0\n",
       "36   2018-09-05 00:00:00     90  75.9             T          0\n",
       "..                   ...    ...   ...           ...        ...\n",
       "458  2019-11-01 00:00:00     50    30             T          T\n",
       "475  2019-11-18 00:00:00     46    37             T          0\n",
       "481  2019-11-24 00:00:00     52  35.1             T          0\n",
       "485  2019-11-28 00:00:00   42.1  35.1             T          0\n",
       "497  2019-12-10 00:00:00     55    25             T          0\n",
       "\n",
       "[68 rows x 5 columns]"
      ]
     },
     "execution_count": 33,
     "metadata": {},
     "output_type": "execute_result"
    }
   ],
   "source": [
    "df3.loc[df3['Precip.(inch)'] == 'T']"
   ]
  },
  {
   "cell_type": "code",
   "execution_count": 34,
   "metadata": {},
   "outputs": [
    {
     "name": "stdout",
     "output_type": "stream",
     "text": [
      "[7, 10, 17, 24, 36, 47, 62, 65, 69, 74, 81, 86, 88, 102, 112, 119, 120, 126, 127, 128, 135, 138, 152, 154, 155, 158, 160, 161, 162, 163, 167, 168, 169, 177, 179, 180, 192, 197, 201, 202, 216, 217, 225, 240, 266, 271, 282, 283, 291, 293, 318, 319, 329, 340, 349, 371, 372, 377, 392, 416, 431, 445, 446, 458, 475, 481, 485, 497]\n"
     ]
    }
   ],
   "source": [
    "#df3.loc[df3['Precip.(inch)'] == 'T']\n",
    "list_P = df3[df3['Precip.(inch)'] == 'T'].index.tolist()\n",
    "print(list_P)"
   ]
  },
  {
   "cell_type": "code",
   "execution_count": 35,
   "metadata": {},
   "outputs": [],
   "source": [
    "#Replacing all T values in the Precip & Snow columns with 0's.\n",
    "\n",
    "df3 = df3.replace('T',0)"
   ]
  },
  {
   "cell_type": "code",
   "execution_count": 36,
   "metadata": {},
   "outputs": [
    {
     "data": {
      "text/plain": [
       "0.0"
      ]
     },
     "execution_count": 36,
     "metadata": {},
     "output_type": "execute_result"
    }
   ],
   "source": [
    "df3.loc[7][3]"
   ]
  },
  {
   "cell_type": "code",
   "execution_count": 37,
   "metadata": {},
   "outputs": [
    {
     "data": {
      "text/html": [
       "<div>\n",
       "<style scoped>\n",
       "    .dataframe tbody tr th:only-of-type {\n",
       "        vertical-align: middle;\n",
       "    }\n",
       "\n",
       "    .dataframe tbody tr th {\n",
       "        vertical-align: top;\n",
       "    }\n",
       "\n",
       "    .dataframe thead th {\n",
       "        text-align: right;\n",
       "    }\n",
       "</style>\n",
       "<table border=\"1\" class=\"dataframe\">\n",
       "  <thead>\n",
       "    <tr style=\"text-align: right;\">\n",
       "      <th></th>\n",
       "      <th>Date</th>\n",
       "      <th>HighºF</th>\n",
       "      <th>LowºF</th>\n",
       "      <th>Precip.(inch)</th>\n",
       "      <th>Snow(inch)</th>\n",
       "    </tr>\n",
       "  </thead>\n",
       "  <tbody>\n",
       "  </tbody>\n",
       "</table>\n",
       "</div>"
      ],
      "text/plain": [
       "Empty DataFrame\n",
       "Columns: [Date, HighºF, LowºF, Precip.(inch), Snow(inch)]\n",
       "Index: []"
      ]
     },
     "execution_count": 37,
     "metadata": {},
     "output_type": "execute_result"
    }
   ],
   "source": [
    "df3.loc[df3['Snow(inch)'] == 'T']"
   ]
  },
  {
   "cell_type": "code",
   "execution_count": 38,
   "metadata": {},
   "outputs": [
    {
     "data": {
      "text/html": [
       "<div>\n",
       "<style scoped>\n",
       "    .dataframe tbody tr th:only-of-type {\n",
       "        vertical-align: middle;\n",
       "    }\n",
       "\n",
       "    .dataframe tbody tr th {\n",
       "        vertical-align: top;\n",
       "    }\n",
       "\n",
       "    .dataframe thead th {\n",
       "        text-align: right;\n",
       "    }\n",
       "</style>\n",
       "<table border=\"1\" class=\"dataframe\">\n",
       "  <thead>\n",
       "    <tr style=\"text-align: right;\">\n",
       "      <th></th>\n",
       "      <th>Date</th>\n",
       "      <th>HighºF</th>\n",
       "      <th>LowºF</th>\n",
       "      <th>Precip.(inch)</th>\n",
       "      <th>Snow(inch)</th>\n",
       "    </tr>\n",
       "  </thead>\n",
       "  <tbody>\n",
       "  </tbody>\n",
       "</table>\n",
       "</div>"
      ],
      "text/plain": [
       "Empty DataFrame\n",
       "Columns: [Date, HighºF, LowºF, Precip.(inch), Snow(inch)]\n",
       "Index: []"
      ]
     },
     "execution_count": 38,
     "metadata": {},
     "output_type": "execute_result"
    }
   ],
   "source": [
    "df3.loc[df3['Precip.(inch)'] == 'T']"
   ]
  },
  {
   "cell_type": "code",
   "execution_count": 39,
   "metadata": {},
   "outputs": [
    {
     "data": {
      "text/plain": [
       "Index(['TripID', 'StartDate', 'EndDate', 'TripDuration', 'TripDistance',\n",
       "       'StartLatitude', 'StartLongitude', 'EndLatitude', 'EndLongitude',\n",
       "       'DayOfWeek', 'HourNum'],\n",
       "      dtype='object')"
      ]
     },
     "execution_count": 39,
     "metadata": {},
     "output_type": "execute_result"
    }
   ],
   "source": [
    "#Checking for 'T' values in weather data Date \tHighºF \tLowºF \tPrecip.(inch) \tSnow(inch)\n",
    "#df3.loc[df3['Date'] == 'T']\n",
    "df12.columns"
   ]
  },
  {
   "cell_type": "code",
   "execution_count": 40,
   "metadata": {},
   "outputs": [
    {
     "data": {
      "text/html": [
       "<div>\n",
       "<style scoped>\n",
       "    .dataframe tbody tr th:only-of-type {\n",
       "        vertical-align: middle;\n",
       "    }\n",
       "\n",
       "    .dataframe tbody tr th {\n",
       "        vertical-align: top;\n",
       "    }\n",
       "\n",
       "    .dataframe thead th {\n",
       "        text-align: right;\n",
       "    }\n",
       "</style>\n",
       "<table border=\"1\" class=\"dataframe\">\n",
       "  <thead>\n",
       "    <tr style=\"text-align: right;\">\n",
       "      <th></th>\n",
       "      <th>TripID</th>\n",
       "      <th>StartDate</th>\n",
       "      <th>EndDate</th>\n",
       "      <th>TripDuration</th>\n",
       "      <th>TripDistance</th>\n",
       "      <th>StartLatitude</th>\n",
       "      <th>StartLongitude</th>\n",
       "      <th>EndLatitude</th>\n",
       "      <th>EndLongitude</th>\n",
       "      <th>DayOfWeek</th>\n",
       "      <th>HourNum</th>\n",
       "    </tr>\n",
       "  </thead>\n",
       "  <tbody>\n",
       "  </tbody>\n",
       "</table>\n",
       "</div>"
      ],
      "text/plain": [
       "Empty DataFrame\n",
       "Columns: [TripID, StartDate, EndDate, TripDuration, TripDistance, StartLatitude, StartLongitude, EndLatitude, EndLongitude, DayOfWeek, HourNum]\n",
       "Index: []"
      ]
     },
     "execution_count": 40,
     "metadata": {},
     "output_type": "execute_result"
    }
   ],
   "source": [
    "df12.loc[df12['StartDate'] == 'T']"
   ]
  },
  {
   "cell_type": "code",
   "execution_count": 41,
   "metadata": {},
   "outputs": [
    {
     "data": {
      "text/html": [
       "<div>\n",
       "<style scoped>\n",
       "    .dataframe tbody tr th:only-of-type {\n",
       "        vertical-align: middle;\n",
       "    }\n",
       "\n",
       "    .dataframe tbody tr th {\n",
       "        vertical-align: top;\n",
       "    }\n",
       "\n",
       "    .dataframe thead th {\n",
       "        text-align: right;\n",
       "    }\n",
       "</style>\n",
       "<table border=\"1\" class=\"dataframe\">\n",
       "  <thead>\n",
       "    <tr style=\"text-align: right;\">\n",
       "      <th></th>\n",
       "      <th>TripID</th>\n",
       "      <th>StartDate</th>\n",
       "      <th>EndDate</th>\n",
       "      <th>TripDuration</th>\n",
       "      <th>TripDistance</th>\n",
       "      <th>StartLatitude</th>\n",
       "      <th>StartLongitude</th>\n",
       "      <th>EndLatitude</th>\n",
       "      <th>EndLongitude</th>\n",
       "      <th>DayOfWeek</th>\n",
       "      <th>HourNum</th>\n",
       "    </tr>\n",
       "  </thead>\n",
       "  <tbody>\n",
       "  </tbody>\n",
       "</table>\n",
       "</div>"
      ],
      "text/plain": [
       "Empty DataFrame\n",
       "Columns: [TripID, StartDate, EndDate, TripDuration, TripDistance, StartLatitude, StartLongitude, EndLatitude, EndLongitude, DayOfWeek, HourNum]\n",
       "Index: []"
      ]
     },
     "execution_count": 41,
     "metadata": {},
     "output_type": "execute_result"
    }
   ],
   "source": [
    "df12.loc[df12['EndDate'] == 'T']"
   ]
  },
  {
   "cell_type": "code",
   "execution_count": 42,
   "metadata": {},
   "outputs": [
    {
     "data": {
      "text/html": [
       "<div>\n",
       "<style scoped>\n",
       "    .dataframe tbody tr th:only-of-type {\n",
       "        vertical-align: middle;\n",
       "    }\n",
       "\n",
       "    .dataframe tbody tr th {\n",
       "        vertical-align: top;\n",
       "    }\n",
       "\n",
       "    .dataframe thead th {\n",
       "        text-align: right;\n",
       "    }\n",
       "</style>\n",
       "<table border=\"1\" class=\"dataframe\">\n",
       "  <thead>\n",
       "    <tr style=\"text-align: right;\">\n",
       "      <th></th>\n",
       "      <th>TripID</th>\n",
       "      <th>StartDate</th>\n",
       "      <th>EndDate</th>\n",
       "      <th>TripDuration</th>\n",
       "      <th>TripDistance</th>\n",
       "      <th>StartLatitude</th>\n",
       "      <th>StartLongitude</th>\n",
       "      <th>EndLatitude</th>\n",
       "      <th>EndLongitude</th>\n",
       "      <th>DayOfWeek</th>\n",
       "      <th>HourNum</th>\n",
       "    </tr>\n",
       "  </thead>\n",
       "  <tbody>\n",
       "  </tbody>\n",
       "</table>\n",
       "</div>"
      ],
      "text/plain": [
       "Empty DataFrame\n",
       "Columns: [TripID, StartDate, EndDate, TripDuration, TripDistance, StartLatitude, StartLongitude, EndLatitude, EndLongitude, DayOfWeek, HourNum]\n",
       "Index: []"
      ]
     },
     "execution_count": 42,
     "metadata": {},
     "output_type": "execute_result"
    }
   ],
   "source": [
    "df12.loc[df12['TripDuration'] == 'T']"
   ]
  },
  {
   "cell_type": "code",
   "execution_count": 43,
   "metadata": {},
   "outputs": [
    {
     "data": {
      "text/html": [
       "<div>\n",
       "<style scoped>\n",
       "    .dataframe tbody tr th:only-of-type {\n",
       "        vertical-align: middle;\n",
       "    }\n",
       "\n",
       "    .dataframe tbody tr th {\n",
       "        vertical-align: top;\n",
       "    }\n",
       "\n",
       "    .dataframe thead th {\n",
       "        text-align: right;\n",
       "    }\n",
       "</style>\n",
       "<table border=\"1\" class=\"dataframe\">\n",
       "  <thead>\n",
       "    <tr style=\"text-align: right;\">\n",
       "      <th></th>\n",
       "      <th>TripID</th>\n",
       "      <th>StartDate</th>\n",
       "      <th>EndDate</th>\n",
       "      <th>TripDuration</th>\n",
       "      <th>TripDistance</th>\n",
       "      <th>StartLatitude</th>\n",
       "      <th>StartLongitude</th>\n",
       "      <th>EndLatitude</th>\n",
       "      <th>EndLongitude</th>\n",
       "      <th>DayOfWeek</th>\n",
       "      <th>HourNum</th>\n",
       "    </tr>\n",
       "  </thead>\n",
       "  <tbody>\n",
       "  </tbody>\n",
       "</table>\n",
       "</div>"
      ],
      "text/plain": [
       "Empty DataFrame\n",
       "Columns: [TripID, StartDate, EndDate, TripDuration, TripDistance, StartLatitude, StartLongitude, EndLatitude, EndLongitude, DayOfWeek, HourNum]\n",
       "Index: []"
      ]
     },
     "execution_count": 43,
     "metadata": {},
     "output_type": "execute_result"
    }
   ],
   "source": [
    "df12.loc[df12['TripDistance'] == 'T']"
   ]
  },
  {
   "cell_type": "code",
   "execution_count": 44,
   "metadata": {},
   "outputs": [
    {
     "data": {
      "text/html": [
       "<div>\n",
       "<style scoped>\n",
       "    .dataframe tbody tr th:only-of-type {\n",
       "        vertical-align: middle;\n",
       "    }\n",
       "\n",
       "    .dataframe tbody tr th {\n",
       "        vertical-align: top;\n",
       "    }\n",
       "\n",
       "    .dataframe thead th {\n",
       "        text-align: right;\n",
       "    }\n",
       "</style>\n",
       "<table border=\"1\" class=\"dataframe\">\n",
       "  <thead>\n",
       "    <tr style=\"text-align: right;\">\n",
       "      <th></th>\n",
       "      <th>TripID</th>\n",
       "      <th>StartDate</th>\n",
       "      <th>EndDate</th>\n",
       "      <th>TripDuration</th>\n",
       "      <th>TripDistance</th>\n",
       "      <th>StartLatitude</th>\n",
       "      <th>StartLongitude</th>\n",
       "      <th>EndLatitude</th>\n",
       "      <th>EndLongitude</th>\n",
       "      <th>DayOfWeek</th>\n",
       "      <th>HourNum</th>\n",
       "    </tr>\n",
       "  </thead>\n",
       "  <tbody>\n",
       "  </tbody>\n",
       "</table>\n",
       "</div>"
      ],
      "text/plain": [
       "Empty DataFrame\n",
       "Columns: [TripID, StartDate, EndDate, TripDuration, TripDistance, StartLatitude, StartLongitude, EndLatitude, EndLongitude, DayOfWeek, HourNum]\n",
       "Index: []"
      ]
     },
     "execution_count": 44,
     "metadata": {},
     "output_type": "execute_result"
    }
   ],
   "source": [
    "df12.loc[df12['StartLatitude'] == 'T']"
   ]
  },
  {
   "cell_type": "code",
   "execution_count": 45,
   "metadata": {},
   "outputs": [
    {
     "data": {
      "text/html": [
       "<div>\n",
       "<style scoped>\n",
       "    .dataframe tbody tr th:only-of-type {\n",
       "        vertical-align: middle;\n",
       "    }\n",
       "\n",
       "    .dataframe tbody tr th {\n",
       "        vertical-align: top;\n",
       "    }\n",
       "\n",
       "    .dataframe thead th {\n",
       "        text-align: right;\n",
       "    }\n",
       "</style>\n",
       "<table border=\"1\" class=\"dataframe\">\n",
       "  <thead>\n",
       "    <tr style=\"text-align: right;\">\n",
       "      <th></th>\n",
       "      <th>TripID</th>\n",
       "      <th>StartDate</th>\n",
       "      <th>EndDate</th>\n",
       "      <th>TripDuration</th>\n",
       "      <th>TripDistance</th>\n",
       "      <th>StartLatitude</th>\n",
       "      <th>StartLongitude</th>\n",
       "      <th>EndLatitude</th>\n",
       "      <th>EndLongitude</th>\n",
       "      <th>DayOfWeek</th>\n",
       "      <th>HourNum</th>\n",
       "    </tr>\n",
       "  </thead>\n",
       "  <tbody>\n",
       "  </tbody>\n",
       "</table>\n",
       "</div>"
      ],
      "text/plain": [
       "Empty DataFrame\n",
       "Columns: [TripID, StartDate, EndDate, TripDuration, TripDistance, StartLatitude, StartLongitude, EndLatitude, EndLongitude, DayOfWeek, HourNum]\n",
       "Index: []"
      ]
     },
     "execution_count": 45,
     "metadata": {},
     "output_type": "execute_result"
    }
   ],
   "source": [
    "df12.loc[df12['StartLongitude'] == 'T']"
   ]
  },
  {
   "cell_type": "code",
   "execution_count": 46,
   "metadata": {},
   "outputs": [
    {
     "data": {
      "text/html": [
       "<div>\n",
       "<style scoped>\n",
       "    .dataframe tbody tr th:only-of-type {\n",
       "        vertical-align: middle;\n",
       "    }\n",
       "\n",
       "    .dataframe tbody tr th {\n",
       "        vertical-align: top;\n",
       "    }\n",
       "\n",
       "    .dataframe thead th {\n",
       "        text-align: right;\n",
       "    }\n",
       "</style>\n",
       "<table border=\"1\" class=\"dataframe\">\n",
       "  <thead>\n",
       "    <tr style=\"text-align: right;\">\n",
       "      <th></th>\n",
       "      <th>TripID</th>\n",
       "      <th>StartDate</th>\n",
       "      <th>EndDate</th>\n",
       "      <th>TripDuration</th>\n",
       "      <th>TripDistance</th>\n",
       "      <th>StartLatitude</th>\n",
       "      <th>StartLongitude</th>\n",
       "      <th>EndLatitude</th>\n",
       "      <th>EndLongitude</th>\n",
       "      <th>DayOfWeek</th>\n",
       "      <th>HourNum</th>\n",
       "    </tr>\n",
       "  </thead>\n",
       "  <tbody>\n",
       "  </tbody>\n",
       "</table>\n",
       "</div>"
      ],
      "text/plain": [
       "Empty DataFrame\n",
       "Columns: [TripID, StartDate, EndDate, TripDuration, TripDistance, StartLatitude, StartLongitude, EndLatitude, EndLongitude, DayOfWeek, HourNum]\n",
       "Index: []"
      ]
     },
     "execution_count": 46,
     "metadata": {},
     "output_type": "execute_result"
    }
   ],
   "source": [
    "df12.loc[df12['EndLatitude'] == 'T']"
   ]
  },
  {
   "cell_type": "code",
   "execution_count": 47,
   "metadata": {},
   "outputs": [
    {
     "data": {
      "text/html": [
       "<div>\n",
       "<style scoped>\n",
       "    .dataframe tbody tr th:only-of-type {\n",
       "        vertical-align: middle;\n",
       "    }\n",
       "\n",
       "    .dataframe tbody tr th {\n",
       "        vertical-align: top;\n",
       "    }\n",
       "\n",
       "    .dataframe thead th {\n",
       "        text-align: right;\n",
       "    }\n",
       "</style>\n",
       "<table border=\"1\" class=\"dataframe\">\n",
       "  <thead>\n",
       "    <tr style=\"text-align: right;\">\n",
       "      <th></th>\n",
       "      <th>TripID</th>\n",
       "      <th>StartDate</th>\n",
       "      <th>EndDate</th>\n",
       "      <th>TripDuration</th>\n",
       "      <th>TripDistance</th>\n",
       "      <th>StartLatitude</th>\n",
       "      <th>StartLongitude</th>\n",
       "      <th>EndLatitude</th>\n",
       "      <th>EndLongitude</th>\n",
       "      <th>DayOfWeek</th>\n",
       "      <th>HourNum</th>\n",
       "    </tr>\n",
       "  </thead>\n",
       "  <tbody>\n",
       "  </tbody>\n",
       "</table>\n",
       "</div>"
      ],
      "text/plain": [
       "Empty DataFrame\n",
       "Columns: [TripID, StartDate, EndDate, TripDuration, TripDistance, StartLatitude, StartLongitude, EndLatitude, EndLongitude, DayOfWeek, HourNum]\n",
       "Index: []"
      ]
     },
     "execution_count": 47,
     "metadata": {},
     "output_type": "execute_result"
    }
   ],
   "source": [
    "df12.loc[df12['EndLongitude'] == 'T']"
   ]
  },
  {
   "cell_type": "code",
   "execution_count": 48,
   "metadata": {},
   "outputs": [
    {
     "data": {
      "text/html": [
       "<div>\n",
       "<style scoped>\n",
       "    .dataframe tbody tr th:only-of-type {\n",
       "        vertical-align: middle;\n",
       "    }\n",
       "\n",
       "    .dataframe tbody tr th {\n",
       "        vertical-align: top;\n",
       "    }\n",
       "\n",
       "    .dataframe thead th {\n",
       "        text-align: right;\n",
       "    }\n",
       "</style>\n",
       "<table border=\"1\" class=\"dataframe\">\n",
       "  <thead>\n",
       "    <tr style=\"text-align: right;\">\n",
       "      <th></th>\n",
       "      <th>TripID</th>\n",
       "      <th>StartDate</th>\n",
       "      <th>EndDate</th>\n",
       "      <th>TripDuration</th>\n",
       "      <th>TripDistance</th>\n",
       "      <th>StartLatitude</th>\n",
       "      <th>StartLongitude</th>\n",
       "      <th>EndLatitude</th>\n",
       "      <th>EndLongitude</th>\n",
       "      <th>DayOfWeek</th>\n",
       "      <th>HourNum</th>\n",
       "    </tr>\n",
       "  </thead>\n",
       "  <tbody>\n",
       "  </tbody>\n",
       "</table>\n",
       "</div>"
      ],
      "text/plain": [
       "Empty DataFrame\n",
       "Columns: [TripID, StartDate, EndDate, TripDuration, TripDistance, StartLatitude, StartLongitude, EndLatitude, EndLongitude, DayOfWeek, HourNum]\n",
       "Index: []"
      ]
     },
     "execution_count": 48,
     "metadata": {},
     "output_type": "execute_result"
    }
   ],
   "source": [
    "df12.loc[df12['DayOfWeek'] == 'T']"
   ]
  },
  {
   "cell_type": "code",
   "execution_count": 49,
   "metadata": {},
   "outputs": [
    {
     "data": {
      "text/html": [
       "<div>\n",
       "<style scoped>\n",
       "    .dataframe tbody tr th:only-of-type {\n",
       "        vertical-align: middle;\n",
       "    }\n",
       "\n",
       "    .dataframe tbody tr th {\n",
       "        vertical-align: top;\n",
       "    }\n",
       "\n",
       "    .dataframe thead th {\n",
       "        text-align: right;\n",
       "    }\n",
       "</style>\n",
       "<table border=\"1\" class=\"dataframe\">\n",
       "  <thead>\n",
       "    <tr style=\"text-align: right;\">\n",
       "      <th></th>\n",
       "      <th>TripID</th>\n",
       "      <th>StartDate</th>\n",
       "      <th>EndDate</th>\n",
       "      <th>TripDuration</th>\n",
       "      <th>TripDistance</th>\n",
       "      <th>StartLatitude</th>\n",
       "      <th>StartLongitude</th>\n",
       "      <th>EndLatitude</th>\n",
       "      <th>EndLongitude</th>\n",
       "      <th>DayOfWeek</th>\n",
       "      <th>HourNum</th>\n",
       "    </tr>\n",
       "  </thead>\n",
       "  <tbody>\n",
       "  </tbody>\n",
       "</table>\n",
       "</div>"
      ],
      "text/plain": [
       "Empty DataFrame\n",
       "Columns: [TripID, StartDate, EndDate, TripDuration, TripDistance, StartLatitude, StartLongitude, EndLatitude, EndLongitude, DayOfWeek, HourNum]\n",
       "Index: []"
      ]
     },
     "execution_count": 49,
     "metadata": {},
     "output_type": "execute_result"
    }
   ],
   "source": [
    "df12.loc[df12['HourNum'] == 'T']"
   ]
  },
  {
   "cell_type": "code",
   "execution_count": 50,
   "metadata": {},
   "outputs": [
    {
     "data": {
      "text/html": [
       "<div>\n",
       "<style scoped>\n",
       "    .dataframe tbody tr th:only-of-type {\n",
       "        vertical-align: middle;\n",
       "    }\n",
       "\n",
       "    .dataframe tbody tr th {\n",
       "        vertical-align: top;\n",
       "    }\n",
       "\n",
       "    .dataframe thead th {\n",
       "        text-align: right;\n",
       "    }\n",
       "</style>\n",
       "<table border=\"1\" class=\"dataframe\">\n",
       "  <thead>\n",
       "    <tr style=\"text-align: right;\">\n",
       "      <th></th>\n",
       "      <th>TripID</th>\n",
       "      <th>StartDate</th>\n",
       "      <th>EndDate</th>\n",
       "      <th>TripDuration</th>\n",
       "      <th>TripDistance</th>\n",
       "      <th>StartLatitude</th>\n",
       "      <th>StartLongitude</th>\n",
       "      <th>EndLatitude</th>\n",
       "      <th>EndLongitude</th>\n",
       "      <th>DayOfWeek</th>\n",
       "      <th>HourNum</th>\n",
       "    </tr>\n",
       "  </thead>\n",
       "  <tbody>\n",
       "    <tr>\n",
       "      <th>0</th>\n",
       "      <td>0000045c-2677-3a7d-4b73-cad99a57</td>\n",
       "      <td>2019-06-26</td>\n",
       "      <td>6/26/2019</td>\n",
       "      <td>3</td>\n",
       "      <td>0.000</td>\n",
       "      <td>38.253</td>\n",
       "      <td>-85.756</td>\n",
       "      <td>38.253</td>\n",
       "      <td>-85.755</td>\n",
       "      <td>4</td>\n",
       "      <td>19</td>\n",
       "    </tr>\n",
       "    <tr>\n",
       "      <th>1</th>\n",
       "      <td>0000487b-92e6-50d6-7569-42ed3818</td>\n",
       "      <td>2019-09-22</td>\n",
       "      <td>9/22/2019</td>\n",
       "      <td>5</td>\n",
       "      <td>0.000</td>\n",
       "      <td>38.203</td>\n",
       "      <td>-85.752</td>\n",
       "      <td>38.204</td>\n",
       "      <td>-85.751</td>\n",
       "      <td>1</td>\n",
       "      <td>14</td>\n",
       "    </tr>\n",
       "    <tr>\n",
       "      <th>2</th>\n",
       "      <td>00006088-2579-e0d0-6a30-a15bb878</td>\n",
       "      <td>2019-08-21</td>\n",
       "      <td>8/21/2019</td>\n",
       "      <td>6</td>\n",
       "      <td>0.330</td>\n",
       "      <td>38.259</td>\n",
       "      <td>-85.733</td>\n",
       "      <td>38.265</td>\n",
       "      <td>-85.739</td>\n",
       "      <td>4</td>\n",
       "      <td>17</td>\n",
       "    </tr>\n",
       "    <tr>\n",
       "      <th>3</th>\n",
       "      <td>00008c1a-899b-8596-970f-9f6bf495</td>\n",
       "      <td>2019-07-03</td>\n",
       "      <td>7/3/2019</td>\n",
       "      <td>6</td>\n",
       "      <td>0.640</td>\n",
       "      <td>38.217</td>\n",
       "      <td>-85.757</td>\n",
       "      <td>38.221</td>\n",
       "      <td>-85.763</td>\n",
       "      <td>4</td>\n",
       "      <td>11</td>\n",
       "    </tr>\n",
       "    <tr>\n",
       "      <th>4</th>\n",
       "      <td>00009301-3225-2aea-a84a-165a480a</td>\n",
       "      <td>2019-11-22</td>\n",
       "      <td>11/22/2019</td>\n",
       "      <td>7</td>\n",
       "      <td>0.599</td>\n",
       "      <td>38.215</td>\n",
       "      <td>-85.759</td>\n",
       "      <td>38.222</td>\n",
       "      <td>-85.764</td>\n",
       "      <td>6</td>\n",
       "      <td>10</td>\n",
       "    </tr>\n",
       "    <tr>\n",
       "      <th>...</th>\n",
       "      <td>...</td>\n",
       "      <td>...</td>\n",
       "      <td>...</td>\n",
       "      <td>...</td>\n",
       "      <td>...</td>\n",
       "      <td>...</td>\n",
       "      <td>...</td>\n",
       "      <td>...</td>\n",
       "      <td>...</td>\n",
       "      <td>...</td>\n",
       "      <td>...</td>\n",
       "    </tr>\n",
       "    <tr>\n",
       "      <th>641037</th>\n",
       "      <td>02354104-8760-5db6-aed8-6bdda57552ee</td>\n",
       "      <td>2021-01-23</td>\n",
       "      <td>2021-01-24</td>\n",
       "      <td>7</td>\n",
       "      <td>0.063</td>\n",
       "      <td>38.256</td>\n",
       "      <td>-85.762</td>\n",
       "      <td>38.257</td>\n",
       "      <td>-85.761</td>\n",
       "      <td>7</td>\n",
       "      <td>18</td>\n",
       "    </tr>\n",
       "    <tr>\n",
       "      <th>641038</th>\n",
       "      <td>18d681b7-80fa-53a4-8868-e44b850ef63d</td>\n",
       "      <td>2021-01-23</td>\n",
       "      <td>2021-01-24</td>\n",
       "      <td>10</td>\n",
       "      <td>0.499</td>\n",
       "      <td>38.219</td>\n",
       "      <td>-85.763</td>\n",
       "      <td>38.221</td>\n",
       "      <td>-85.763</td>\n",
       "      <td>7</td>\n",
       "      <td>18</td>\n",
       "    </tr>\n",
       "    <tr>\n",
       "      <th>641040</th>\n",
       "      <td>e55673c5-88cb-5267-b712-aabb5631400e</td>\n",
       "      <td>2021-01-23</td>\n",
       "      <td>2021-01-24</td>\n",
       "      <td>32</td>\n",
       "      <td>0.593</td>\n",
       "      <td>38.258</td>\n",
       "      <td>-85.756</td>\n",
       "      <td>38.253</td>\n",
       "      <td>-85.756</td>\n",
       "      <td>7</td>\n",
       "      <td>18</td>\n",
       "    </tr>\n",
       "    <tr>\n",
       "      <th>641041</th>\n",
       "      <td>7f045330-ac44-5e36-8d1a-363bb236d579</td>\n",
       "      <td>2021-01-23</td>\n",
       "      <td>2021-01-24</td>\n",
       "      <td>10</td>\n",
       "      <td>0.692</td>\n",
       "      <td>38.219</td>\n",
       "      <td>-85.763</td>\n",
       "      <td>38.222</td>\n",
       "      <td>-85.764</td>\n",
       "      <td>7</td>\n",
       "      <td>18</td>\n",
       "    </tr>\n",
       "    <tr>\n",
       "      <th>641043</th>\n",
       "      <td>02dc5faa-9de6-5317-a647-bacc04d7d820</td>\n",
       "      <td>2021-01-23</td>\n",
       "      <td>2021-01-24</td>\n",
       "      <td>9</td>\n",
       "      <td>0.139</td>\n",
       "      <td>38.219</td>\n",
       "      <td>-85.763</td>\n",
       "      <td>38.219</td>\n",
       "      <td>-85.763</td>\n",
       "      <td>7</td>\n",
       "      <td>18</td>\n",
       "    </tr>\n",
       "  </tbody>\n",
       "</table>\n",
       "<p>510758 rows × 11 columns</p>\n",
       "</div>"
      ],
      "text/plain": [
       "                                      TripID   StartDate     EndDate  \\\n",
       "0           0000045c-2677-3a7d-4b73-cad99a57  2019-06-26   6/26/2019   \n",
       "1           0000487b-92e6-50d6-7569-42ed3818  2019-09-22   9/22/2019   \n",
       "2           00006088-2579-e0d0-6a30-a15bb878  2019-08-21   8/21/2019   \n",
       "3           00008c1a-899b-8596-970f-9f6bf495  2019-07-03    7/3/2019   \n",
       "4           00009301-3225-2aea-a84a-165a480a  2019-11-22  11/22/2019   \n",
       "...                                      ...         ...         ...   \n",
       "641037  02354104-8760-5db6-aed8-6bdda57552ee  2021-01-23  2021-01-24   \n",
       "641038  18d681b7-80fa-53a4-8868-e44b850ef63d  2021-01-23  2021-01-24   \n",
       "641040  e55673c5-88cb-5267-b712-aabb5631400e  2021-01-23  2021-01-24   \n",
       "641041  7f045330-ac44-5e36-8d1a-363bb236d579  2021-01-23  2021-01-24   \n",
       "641043  02dc5faa-9de6-5317-a647-bacc04d7d820  2021-01-23  2021-01-24   \n",
       "\n",
       "        TripDuration  TripDistance  StartLatitude  StartLongitude  \\\n",
       "0                  3         0.000         38.253         -85.756   \n",
       "1                  5         0.000         38.203         -85.752   \n",
       "2                  6         0.330         38.259         -85.733   \n",
       "3                  6         0.640         38.217         -85.757   \n",
       "4                  7         0.599         38.215         -85.759   \n",
       "...              ...           ...            ...             ...   \n",
       "641037             7         0.063         38.256         -85.762   \n",
       "641038            10         0.499         38.219         -85.763   \n",
       "641040            32         0.593         38.258         -85.756   \n",
       "641041            10         0.692         38.219         -85.763   \n",
       "641043             9         0.139         38.219         -85.763   \n",
       "\n",
       "        EndLatitude  EndLongitude  DayOfWeek  HourNum  \n",
       "0            38.253       -85.755          4       19  \n",
       "1            38.204       -85.751          1       14  \n",
       "2            38.265       -85.739          4       17  \n",
       "3            38.221       -85.763          4       11  \n",
       "4            38.222       -85.764          6       10  \n",
       "...             ...           ...        ...      ...  \n",
       "641037       38.257       -85.761          7       18  \n",
       "641038       38.221       -85.763          7       18  \n",
       "641040       38.253       -85.756          7       18  \n",
       "641041       38.222       -85.764          7       18  \n",
       "641043       38.219       -85.763          7       18  \n",
       "\n",
       "[510758 rows x 11 columns]"
      ]
     },
     "execution_count": 50,
     "metadata": {},
     "output_type": "execute_result"
    }
   ],
   "source": [
    "df12.loc[df12['StartDate'] != df12['EndDate']]"
   ]
  },
  {
   "cell_type": "code",
   "execution_count": 51,
   "metadata": {},
   "outputs": [
    {
     "data": {
      "text/plain": [
       "TripID            510758\n",
       "StartDate         510758\n",
       "EndDate           510758\n",
       "TripDuration      510758\n",
       "TripDistance      510758\n",
       "StartLatitude     510758\n",
       "StartLongitude    510758\n",
       "EndLatitude       510758\n",
       "EndLongitude      510758\n",
       "DayOfWeek         510758\n",
       "HourNum           510758\n",
       "dtype: int64"
      ]
     },
     "execution_count": 51,
     "metadata": {},
     "output_type": "execute_result"
    }
   ],
   "source": [
    "df12.loc[df12['StartDate'] != df12['EndDate']].count()"
   ]
  },
  {
   "cell_type": "markdown",
   "metadata": {},
   "source": [
    "Merging both Trip data **df12** and Weather data **df3** DataFrames by Date (StartDate)."
   ]
  },
  {
   "cell_type": "code",
   "execution_count": 52,
   "metadata": {},
   "outputs": [
    {
     "data": {
      "text/plain": [
       "TripID            641220\n",
       "StartDate            866\n",
       "EndDate              866\n",
       "TripDuration         353\n",
       "TripDistance        7672\n",
       "StartLatitude        252\n",
       "StartLongitude       327\n",
       "EndLatitude          329\n",
       "EndLongitude         407\n",
       "DayOfWeek              7\n",
       "HourNum               25\n",
       "dtype: int64"
      ]
     },
     "execution_count": 52,
     "metadata": {},
     "output_type": "execute_result"
    }
   ],
   "source": [
    "df12.nunique()"
   ]
  },
  {
   "cell_type": "code",
   "execution_count": 53,
   "metadata": {},
   "outputs": [
    {
     "data": {
      "text/plain": [
       "Date             884\n",
       "HighºF           303\n",
       "LowºF            308\n",
       "Precip.(inch)    173\n",
       "Snow(inch)        43\n",
       "dtype: int64"
      ]
     },
     "execution_count": 53,
     "metadata": {},
     "output_type": "execute_result"
    }
   ],
   "source": [
    "df3.nunique()"
   ]
  },
  {
   "cell_type": "code",
   "execution_count": 54,
   "metadata": {},
   "outputs": [],
   "source": [
    "df3.rename(columns = {'Date':'StartDate'}, inplace = True) "
   ]
  },
  {
   "cell_type": "code",
   "execution_count": 55,
   "metadata": {},
   "outputs": [],
   "source": [
    "#Trying to make sure the StartDate columns in both df12 and df3 dataframe are of the same type and format.\n",
    "df3['StartDate'] = pd.to_datetime(df3['StartDate'])\n",
    "df3['StartDate'] = df3['StartDate'].dt.strftime('%Y-%m-%d') "
   ]
  },
  {
   "cell_type": "code",
   "execution_count": 56,
   "metadata": {},
   "outputs": [],
   "source": [
    "df123 = pd.merge(df12, df3, on = 'StartDate')"
   ]
  },
  {
   "cell_type": "code",
   "execution_count": 57,
   "metadata": {},
   "outputs": [],
   "source": [
    "df123.drop(columns =['EndDate'], inplace=True)"
   ]
  },
  {
   "cell_type": "code",
   "execution_count": 58,
   "metadata": {},
   "outputs": [],
   "source": [
    "#df123['AvgTemp']= df123[['HighºF','LowºF']].mean()\n",
    "df123['AvgTemp'] = (df123['HighºF'] + df123['LowºF'])/2"
   ]
  },
  {
   "cell_type": "code",
   "execution_count": 59,
   "metadata": {},
   "outputs": [],
   "source": [
    "df123.drop(columns =['HighºF','LowºF'], inplace=True)"
   ]
  },
  {
   "cell_type": "code",
   "execution_count": 60,
   "metadata": {},
   "outputs": [
    {
     "data": {
      "text/plain": [
       "True"
      ]
     },
     "execution_count": 60,
     "metadata": {},
     "output_type": "execute_result"
    }
   ],
   "source": [
    "df123['TripID'].is_unique"
   ]
  },
  {
   "cell_type": "code",
   "execution_count": 61,
   "metadata": {},
   "outputs": [
    {
     "name": "stdout",
     "output_type": "stream",
     "text": [
      "<class 'pandas.core.frame.DataFrame'>\n",
      "Int64Index: 637867 entries, 0 to 637866\n",
      "Data columns (total 13 columns):\n",
      " #   Column          Non-Null Count   Dtype  \n",
      "---  ------          --------------   -----  \n",
      " 0   TripID          637867 non-null  object \n",
      " 1   StartDate       637867 non-null  object \n",
      " 2   TripDuration    637867 non-null  int64  \n",
      " 3   TripDistance    637867 non-null  float64\n",
      " 4   StartLatitude   637867 non-null  float64\n",
      " 5   StartLongitude  637867 non-null  float64\n",
      " 6   EndLatitude     637867 non-null  float64\n",
      " 7   EndLongitude    637867 non-null  float64\n",
      " 8   DayOfWeek       637867 non-null  int64  \n",
      " 9   HourNum         637867 non-null  int64  \n",
      " 10  Precip.(inch)   637867 non-null  float64\n",
      " 11  Snow(inch)      637867 non-null  float64\n",
      " 12  AvgTemp         637867 non-null  float64\n",
      "dtypes: float64(8), int64(3), object(2)\n",
      "memory usage: 68.1+ MB\n"
     ]
    }
   ],
   "source": [
    "df123.info()"
   ]
  },
  {
   "cell_type": "code",
   "execution_count": 62,
   "metadata": {},
   "outputs": [],
   "source": [
    "df123a = pd.pivot_table(df123,index=[\"StartDate\",\"TripID\"]) #,\"AvgTemp\"])"
   ]
  },
  {
   "cell_type": "code",
   "execution_count": 63,
   "metadata": {},
   "outputs": [
    {
     "data": {
      "text/html": [
       "<div>\n",
       "<style scoped>\n",
       "    .dataframe tbody tr th:only-of-type {\n",
       "        vertical-align: middle;\n",
       "    }\n",
       "\n",
       "    .dataframe tbody tr th {\n",
       "        vertical-align: top;\n",
       "    }\n",
       "\n",
       "    .dataframe thead th {\n",
       "        text-align: right;\n",
       "    }\n",
       "</style>\n",
       "<table border=\"1\" class=\"dataframe\">\n",
       "  <thead>\n",
       "    <tr style=\"text-align: right;\">\n",
       "      <th></th>\n",
       "      <th></th>\n",
       "      <th>AvgTemp</th>\n",
       "      <th>DayOfWeek</th>\n",
       "      <th>EndLatitude</th>\n",
       "      <th>EndLongitude</th>\n",
       "      <th>HourNum</th>\n",
       "      <th>Precip.(inch)</th>\n",
       "      <th>Snow(inch)</th>\n",
       "      <th>StartLatitude</th>\n",
       "      <th>StartLongitude</th>\n",
       "      <th>TripDistance</th>\n",
       "      <th>TripDuration</th>\n",
       "    </tr>\n",
       "    <tr>\n",
       "      <th>StartDate</th>\n",
       "      <th>TripID</th>\n",
       "      <th></th>\n",
       "      <th></th>\n",
       "      <th></th>\n",
       "      <th></th>\n",
       "      <th></th>\n",
       "      <th></th>\n",
       "      <th></th>\n",
       "      <th></th>\n",
       "      <th></th>\n",
       "      <th></th>\n",
       "      <th></th>\n",
       "    </tr>\n",
       "  </thead>\n",
       "  <tbody>\n",
       "    <tr>\n",
       "      <th rowspan=\"5\" valign=\"top\">2018-08-09</th>\n",
       "      <th>0219fc1c-8177-e71e-ee2e-f946e28d</th>\n",
       "      <td>80.95</td>\n",
       "      <td>5</td>\n",
       "      <td>38.253</td>\n",
       "      <td>-85.739</td>\n",
       "      <td>15</td>\n",
       "      <td>0.00</td>\n",
       "      <td>0.0</td>\n",
       "      <td>38.253</td>\n",
       "      <td>-85.739</td>\n",
       "      <td>0.100</td>\n",
       "      <td>4</td>\n",
       "    </tr>\n",
       "    <tr>\n",
       "      <th>0242dfbd-9107-84d3-3c54-e69d0c68</th>\n",
       "      <td>80.95</td>\n",
       "      <td>5</td>\n",
       "      <td>38.239</td>\n",
       "      <td>-85.722</td>\n",
       "      <td>15</td>\n",
       "      <td>0.00</td>\n",
       "      <td>0.0</td>\n",
       "      <td>38.239</td>\n",
       "      <td>-85.722</td>\n",
       "      <td>11.840</td>\n",
       "      <td>139</td>\n",
       "    </tr>\n",
       "    <tr>\n",
       "      <th>02a7d05c-002d-6be9-4414-50f4e09b</th>\n",
       "      <td>80.95</td>\n",
       "      <td>5</td>\n",
       "      <td>38.255</td>\n",
       "      <td>-85.694</td>\n",
       "      <td>12</td>\n",
       "      <td>0.00</td>\n",
       "      <td>0.0</td>\n",
       "      <td>38.249</td>\n",
       "      <td>-85.761</td>\n",
       "      <td>4.420</td>\n",
       "      <td>28</td>\n",
       "    </tr>\n",
       "    <tr>\n",
       "      <th>02a7e0f2-d519-6e52-b1d8-25eebb13</th>\n",
       "      <td>80.95</td>\n",
       "      <td>5</td>\n",
       "      <td>38.252</td>\n",
       "      <td>-85.758</td>\n",
       "      <td>16</td>\n",
       "      <td>0.00</td>\n",
       "      <td>0.0</td>\n",
       "      <td>38.252</td>\n",
       "      <td>-85.757</td>\n",
       "      <td>1.910</td>\n",
       "      <td>19</td>\n",
       "    </tr>\n",
       "    <tr>\n",
       "      <th>02ba9204-3c2e-269a-2677-0adf4392</th>\n",
       "      <td>80.95</td>\n",
       "      <td>5</td>\n",
       "      <td>38.257</td>\n",
       "      <td>-85.755</td>\n",
       "      <td>11</td>\n",
       "      <td>0.00</td>\n",
       "      <td>0.0</td>\n",
       "      <td>38.255</td>\n",
       "      <td>-85.746</td>\n",
       "      <td>0.510</td>\n",
       "      <td>6</td>\n",
       "    </tr>\n",
       "    <tr>\n",
       "      <th>...</th>\n",
       "      <th>...</th>\n",
       "      <td>...</td>\n",
       "      <td>...</td>\n",
       "      <td>...</td>\n",
       "      <td>...</td>\n",
       "      <td>...</td>\n",
       "      <td>...</td>\n",
       "      <td>...</td>\n",
       "      <td>...</td>\n",
       "      <td>...</td>\n",
       "      <td>...</td>\n",
       "      <td>...</td>\n",
       "    </tr>\n",
       "    <tr>\n",
       "      <th rowspan=\"5\" valign=\"top\">2020-12-31</th>\n",
       "      <th>f2b6d375-8e81-54e7-a6a2-4879e0eb2092</th>\n",
       "      <td>35.10</td>\n",
       "      <td>5</td>\n",
       "      <td>38.249</td>\n",
       "      <td>-85.747</td>\n",
       "      <td>15</td>\n",
       "      <td>3.82</td>\n",
       "      <td>2.6</td>\n",
       "      <td>38.250</td>\n",
       "      <td>-85.755</td>\n",
       "      <td>0.646</td>\n",
       "      <td>23</td>\n",
       "    </tr>\n",
       "    <tr>\n",
       "      <th>f3e0eec4-fd47-5ff4-9180-ac6697614640</th>\n",
       "      <td>35.10</td>\n",
       "      <td>5</td>\n",
       "      <td>38.269</td>\n",
       "      <td>-85.740</td>\n",
       "      <td>12</td>\n",
       "      <td>3.82</td>\n",
       "      <td>2.6</td>\n",
       "      <td>38.271</td>\n",
       "      <td>-85.742</td>\n",
       "      <td>0.554</td>\n",
       "      <td>7</td>\n",
       "    </tr>\n",
       "    <tr>\n",
       "      <th>f4ec8b4b-8f90-53ab-a20a-1c78f60dd2d8</th>\n",
       "      <td>35.10</td>\n",
       "      <td>5</td>\n",
       "      <td>38.230</td>\n",
       "      <td>-85.722</td>\n",
       "      <td>14</td>\n",
       "      <td>3.82</td>\n",
       "      <td>2.6</td>\n",
       "      <td>38.223</td>\n",
       "      <td>-85.739</td>\n",
       "      <td>1.521</td>\n",
       "      <td>10</td>\n",
       "    </tr>\n",
       "    <tr>\n",
       "      <th>f78cbedd-d755-572b-9b91-de702794d275</th>\n",
       "      <td>35.10</td>\n",
       "      <td>5</td>\n",
       "      <td>38.252</td>\n",
       "      <td>-85.754</td>\n",
       "      <td>18</td>\n",
       "      <td>3.82</td>\n",
       "      <td>2.6</td>\n",
       "      <td>38.256</td>\n",
       "      <td>-85.753</td>\n",
       "      <td>0.240</td>\n",
       "      <td>2</td>\n",
       "    </tr>\n",
       "    <tr>\n",
       "      <th>face25ba-1b78-5bd3-8c74-7ebaec8ee6bc</th>\n",
       "      <td>35.10</td>\n",
       "      <td>5</td>\n",
       "      <td>38.256</td>\n",
       "      <td>-85.747</td>\n",
       "      <td>13</td>\n",
       "      <td>3.82</td>\n",
       "      <td>2.6</td>\n",
       "      <td>38.253</td>\n",
       "      <td>-85.756</td>\n",
       "      <td>0.743</td>\n",
       "      <td>9</td>\n",
       "    </tr>\n",
       "  </tbody>\n",
       "</table>\n",
       "<p>637867 rows × 11 columns</p>\n",
       "</div>"
      ],
      "text/plain": [
       "                                                 AvgTemp  DayOfWeek  \\\n",
       "StartDate  TripID                                                     \n",
       "2018-08-09 0219fc1c-8177-e71e-ee2e-f946e28d        80.95          5   \n",
       "           0242dfbd-9107-84d3-3c54-e69d0c68        80.95          5   \n",
       "           02a7d05c-002d-6be9-4414-50f4e09b        80.95          5   \n",
       "           02a7e0f2-d519-6e52-b1d8-25eebb13        80.95          5   \n",
       "           02ba9204-3c2e-269a-2677-0adf4392        80.95          5   \n",
       "...                                                  ...        ...   \n",
       "2020-12-31 f2b6d375-8e81-54e7-a6a2-4879e0eb2092    35.10          5   \n",
       "           f3e0eec4-fd47-5ff4-9180-ac6697614640    35.10          5   \n",
       "           f4ec8b4b-8f90-53ab-a20a-1c78f60dd2d8    35.10          5   \n",
       "           f78cbedd-d755-572b-9b91-de702794d275    35.10          5   \n",
       "           face25ba-1b78-5bd3-8c74-7ebaec8ee6bc    35.10          5   \n",
       "\n",
       "                                                 EndLatitude  EndLongitude  \\\n",
       "StartDate  TripID                                                            \n",
       "2018-08-09 0219fc1c-8177-e71e-ee2e-f946e28d           38.253       -85.739   \n",
       "           0242dfbd-9107-84d3-3c54-e69d0c68           38.239       -85.722   \n",
       "           02a7d05c-002d-6be9-4414-50f4e09b           38.255       -85.694   \n",
       "           02a7e0f2-d519-6e52-b1d8-25eebb13           38.252       -85.758   \n",
       "           02ba9204-3c2e-269a-2677-0adf4392           38.257       -85.755   \n",
       "...                                                      ...           ...   \n",
       "2020-12-31 f2b6d375-8e81-54e7-a6a2-4879e0eb2092       38.249       -85.747   \n",
       "           f3e0eec4-fd47-5ff4-9180-ac6697614640       38.269       -85.740   \n",
       "           f4ec8b4b-8f90-53ab-a20a-1c78f60dd2d8       38.230       -85.722   \n",
       "           f78cbedd-d755-572b-9b91-de702794d275       38.252       -85.754   \n",
       "           face25ba-1b78-5bd3-8c74-7ebaec8ee6bc       38.256       -85.747   \n",
       "\n",
       "                                                 HourNum  Precip.(inch)  \\\n",
       "StartDate  TripID                                                         \n",
       "2018-08-09 0219fc1c-8177-e71e-ee2e-f946e28d           15           0.00   \n",
       "           0242dfbd-9107-84d3-3c54-e69d0c68           15           0.00   \n",
       "           02a7d05c-002d-6be9-4414-50f4e09b           12           0.00   \n",
       "           02a7e0f2-d519-6e52-b1d8-25eebb13           16           0.00   \n",
       "           02ba9204-3c2e-269a-2677-0adf4392           11           0.00   \n",
       "...                                                  ...            ...   \n",
       "2020-12-31 f2b6d375-8e81-54e7-a6a2-4879e0eb2092       15           3.82   \n",
       "           f3e0eec4-fd47-5ff4-9180-ac6697614640       12           3.82   \n",
       "           f4ec8b4b-8f90-53ab-a20a-1c78f60dd2d8       14           3.82   \n",
       "           f78cbedd-d755-572b-9b91-de702794d275       18           3.82   \n",
       "           face25ba-1b78-5bd3-8c74-7ebaec8ee6bc       13           3.82   \n",
       "\n",
       "                                                 Snow(inch)  StartLatitude  \\\n",
       "StartDate  TripID                                                            \n",
       "2018-08-09 0219fc1c-8177-e71e-ee2e-f946e28d             0.0         38.253   \n",
       "           0242dfbd-9107-84d3-3c54-e69d0c68             0.0         38.239   \n",
       "           02a7d05c-002d-6be9-4414-50f4e09b             0.0         38.249   \n",
       "           02a7e0f2-d519-6e52-b1d8-25eebb13             0.0         38.252   \n",
       "           02ba9204-3c2e-269a-2677-0adf4392             0.0         38.255   \n",
       "...                                                     ...            ...   \n",
       "2020-12-31 f2b6d375-8e81-54e7-a6a2-4879e0eb2092         2.6         38.250   \n",
       "           f3e0eec4-fd47-5ff4-9180-ac6697614640         2.6         38.271   \n",
       "           f4ec8b4b-8f90-53ab-a20a-1c78f60dd2d8         2.6         38.223   \n",
       "           f78cbedd-d755-572b-9b91-de702794d275         2.6         38.256   \n",
       "           face25ba-1b78-5bd3-8c74-7ebaec8ee6bc         2.6         38.253   \n",
       "\n",
       "                                                 StartLongitude  TripDistance  \\\n",
       "StartDate  TripID                                                               \n",
       "2018-08-09 0219fc1c-8177-e71e-ee2e-f946e28d             -85.739         0.100   \n",
       "           0242dfbd-9107-84d3-3c54-e69d0c68             -85.722        11.840   \n",
       "           02a7d05c-002d-6be9-4414-50f4e09b             -85.761         4.420   \n",
       "           02a7e0f2-d519-6e52-b1d8-25eebb13             -85.757         1.910   \n",
       "           02ba9204-3c2e-269a-2677-0adf4392             -85.746         0.510   \n",
       "...                                                         ...           ...   \n",
       "2020-12-31 f2b6d375-8e81-54e7-a6a2-4879e0eb2092         -85.755         0.646   \n",
       "           f3e0eec4-fd47-5ff4-9180-ac6697614640         -85.742         0.554   \n",
       "           f4ec8b4b-8f90-53ab-a20a-1c78f60dd2d8         -85.739         1.521   \n",
       "           f78cbedd-d755-572b-9b91-de702794d275         -85.753         0.240   \n",
       "           face25ba-1b78-5bd3-8c74-7ebaec8ee6bc         -85.756         0.743   \n",
       "\n",
       "                                                 TripDuration  \n",
       "StartDate  TripID                                              \n",
       "2018-08-09 0219fc1c-8177-e71e-ee2e-f946e28d                 4  \n",
       "           0242dfbd-9107-84d3-3c54-e69d0c68               139  \n",
       "           02a7d05c-002d-6be9-4414-50f4e09b                28  \n",
       "           02a7e0f2-d519-6e52-b1d8-25eebb13                19  \n",
       "           02ba9204-3c2e-269a-2677-0adf4392                 6  \n",
       "...                                                       ...  \n",
       "2020-12-31 f2b6d375-8e81-54e7-a6a2-4879e0eb2092            23  \n",
       "           f3e0eec4-fd47-5ff4-9180-ac6697614640             7  \n",
       "           f4ec8b4b-8f90-53ab-a20a-1c78f60dd2d8            10  \n",
       "           f78cbedd-d755-572b-9b91-de702794d275             2  \n",
       "           face25ba-1b78-5bd3-8c74-7ebaec8ee6bc             9  \n",
       "\n",
       "[637867 rows x 11 columns]"
      ]
     },
     "execution_count": 63,
     "metadata": {},
     "output_type": "execute_result"
    }
   ],
   "source": [
    "df123a"
   ]
  },
  {
   "cell_type": "markdown",
   "metadata": {},
   "source": [
    "# Exploratory Data Analysis (EDA)"
   ]
  },
  {
   "cell_type": "code",
   "execution_count": 64,
   "metadata": {},
   "outputs": [
    {
     "data": {
      "text/html": [
       "<div>\n",
       "<style scoped>\n",
       "    .dataframe tbody tr th:only-of-type {\n",
       "        vertical-align: middle;\n",
       "    }\n",
       "\n",
       "    .dataframe tbody tr th {\n",
       "        vertical-align: top;\n",
       "    }\n",
       "\n",
       "    .dataframe thead th {\n",
       "        text-align: right;\n",
       "    }\n",
       "</style>\n",
       "<table border=\"1\" class=\"dataframe\">\n",
       "  <thead>\n",
       "    <tr style=\"text-align: right;\">\n",
       "      <th></th>\n",
       "      <th>AvgTemp</th>\n",
       "      <th>DayOfWeek</th>\n",
       "      <th>EndLatitude</th>\n",
       "      <th>EndLongitude</th>\n",
       "      <th>HourNum</th>\n",
       "      <th>Precip.(inch)</th>\n",
       "      <th>Snow(inch)</th>\n",
       "      <th>StartLatitude</th>\n",
       "      <th>StartLongitude</th>\n",
       "      <th>TripDistance</th>\n",
       "      <th>TripDuration</th>\n",
       "    </tr>\n",
       "  </thead>\n",
       "  <tbody>\n",
       "    <tr>\n",
       "      <th>count</th>\n",
       "      <td>637867.000000</td>\n",
       "      <td>637867.000000</td>\n",
       "      <td>637867.000000</td>\n",
       "      <td>637867.000000</td>\n",
       "      <td>637867.000000</td>\n",
       "      <td>637867.000000</td>\n",
       "      <td>637867.000000</td>\n",
       "      <td>637867.000000</td>\n",
       "      <td>637867.000000</td>\n",
       "      <td>637867.000000</td>\n",
       "      <td>637867.000000</td>\n",
       "    </tr>\n",
       "    <tr>\n",
       "      <th>mean</th>\n",
       "      <td>68.113060</td>\n",
       "      <td>4.285078</td>\n",
       "      <td>38.239593</td>\n",
       "      <td>-85.745870</td>\n",
       "      <td>14.590139</td>\n",
       "      <td>0.466746</td>\n",
       "      <td>0.043862</td>\n",
       "      <td>38.241122</td>\n",
       "      <td>-85.748146</td>\n",
       "      <td>1.033673</td>\n",
       "      <td>15.133567</td>\n",
       "    </tr>\n",
       "    <tr>\n",
       "      <th>std</th>\n",
       "      <td>14.975784</td>\n",
       "      <td>2.079860</td>\n",
       "      <td>0.264549</td>\n",
       "      <td>0.565281</td>\n",
       "      <td>4.607764</td>\n",
       "      <td>0.913155</td>\n",
       "      <td>0.307194</td>\n",
       "      <td>0.039261</td>\n",
       "      <td>0.191261</td>\n",
       "      <td>3.293797</td>\n",
       "      <td>22.384879</td>\n",
       "    </tr>\n",
       "    <tr>\n",
       "      <th>min</th>\n",
       "      <td>12.650000</td>\n",
       "      <td>1.000000</td>\n",
       "      <td>-85.755000</td>\n",
       "      <td>-122.675000</td>\n",
       "      <td>0.000000</td>\n",
       "      <td>0.000000</td>\n",
       "      <td>0.000000</td>\n",
       "      <td>25.778000</td>\n",
       "      <td>-122.666000</td>\n",
       "      <td>-1.000000</td>\n",
       "      <td>0.000000</td>\n",
       "    </tr>\n",
       "    <tr>\n",
       "      <th>25%</th>\n",
       "      <td>58.000000</td>\n",
       "      <td>2.000000</td>\n",
       "      <td>38.222000</td>\n",
       "      <td>-85.759000</td>\n",
       "      <td>11.000000</td>\n",
       "      <td>0.000000</td>\n",
       "      <td>0.000000</td>\n",
       "      <td>38.222000</td>\n",
       "      <td>-85.759000</td>\n",
       "      <td>0.124000</td>\n",
       "      <td>4.000000</td>\n",
       "    </tr>\n",
       "    <tr>\n",
       "      <th>50%</th>\n",
       "      <td>73.450000</td>\n",
       "      <td>4.000000</td>\n",
       "      <td>38.250000</td>\n",
       "      <td>-85.754000</td>\n",
       "      <td>15.000000</td>\n",
       "      <td>0.000000</td>\n",
       "      <td>0.000000</td>\n",
       "      <td>38.250000</td>\n",
       "      <td>-85.754000</td>\n",
       "      <td>0.551000</td>\n",
       "      <td>8.000000</td>\n",
       "    </tr>\n",
       "    <tr>\n",
       "      <th>75%</th>\n",
       "      <td>79.950000</td>\n",
       "      <td>6.000000</td>\n",
       "      <td>38.256000</td>\n",
       "      <td>-85.741000</td>\n",
       "      <td>18.000000</td>\n",
       "      <td>0.450000</td>\n",
       "      <td>0.000000</td>\n",
       "      <td>38.256000</td>\n",
       "      <td>-85.742000</td>\n",
       "      <td>1.300000</td>\n",
       "      <td>18.000000</td>\n",
       "    </tr>\n",
       "    <tr>\n",
       "      <th>max</th>\n",
       "      <td>88.100000</td>\n",
       "      <td>7.000000</td>\n",
       "      <td>50.117000</td>\n",
       "      <td>8.681000</td>\n",
       "      <td>24.000000</td>\n",
       "      <td>5.280000</td>\n",
       "      <td>4.490000</td>\n",
       "      <td>50.108000</td>\n",
       "      <td>8.677000</td>\n",
       "      <td>1992.141000</td>\n",
       "      <td>3167.000000</td>\n",
       "    </tr>\n",
       "  </tbody>\n",
       "</table>\n",
       "</div>"
      ],
      "text/plain": [
       "             AvgTemp      DayOfWeek    EndLatitude   EndLongitude  \\\n",
       "count  637867.000000  637867.000000  637867.000000  637867.000000   \n",
       "mean       68.113060       4.285078      38.239593     -85.745870   \n",
       "std        14.975784       2.079860       0.264549       0.565281   \n",
       "min        12.650000       1.000000     -85.755000    -122.675000   \n",
       "25%        58.000000       2.000000      38.222000     -85.759000   \n",
       "50%        73.450000       4.000000      38.250000     -85.754000   \n",
       "75%        79.950000       6.000000      38.256000     -85.741000   \n",
       "max        88.100000       7.000000      50.117000       8.681000   \n",
       "\n",
       "             HourNum  Precip.(inch)     Snow(inch)  StartLatitude  \\\n",
       "count  637867.000000  637867.000000  637867.000000  637867.000000   \n",
       "mean       14.590139       0.466746       0.043862      38.241122   \n",
       "std         4.607764       0.913155       0.307194       0.039261   \n",
       "min         0.000000       0.000000       0.000000      25.778000   \n",
       "25%        11.000000       0.000000       0.000000      38.222000   \n",
       "50%        15.000000       0.000000       0.000000      38.250000   \n",
       "75%        18.000000       0.450000       0.000000      38.256000   \n",
       "max        24.000000       5.280000       4.490000      50.108000   \n",
       "\n",
       "       StartLongitude   TripDistance   TripDuration  \n",
       "count   637867.000000  637867.000000  637867.000000  \n",
       "mean       -85.748146       1.033673      15.133567  \n",
       "std          0.191261       3.293797      22.384879  \n",
       "min       -122.666000      -1.000000       0.000000  \n",
       "25%        -85.759000       0.124000       4.000000  \n",
       "50%        -85.754000       0.551000       8.000000  \n",
       "75%        -85.742000       1.300000      18.000000  \n",
       "max          8.677000    1992.141000    3167.000000  "
      ]
     },
     "execution_count": 64,
     "metadata": {},
     "output_type": "execute_result"
    }
   ],
   "source": [
    "df123a.describe()"
   ]
  },
  {
   "cell_type": "code",
   "execution_count": 68,
   "metadata": {},
   "outputs": [
    {
     "data": {
      "image/png": "[encoded data removed]",
      "text/plain": [
       "<Figure size 1080x1080 with 81 Axes>"
      ]
     },
     "metadata": {},
     "output_type": "display_data"
    }
   ],
   "source": [
    "import matplotlib.pyplot as plt\n",
    "from pandas.plotting import scatter_matrix\n",
    "\n",
    "#plt.xkcd()\n",
    "#scatter_matrix(df123a.loc[:, 'AvgTemp':'TripDuration'], alpha=0.2, figsize=(15, 15), diagonal='kde')\n",
    "#plt.show()\n",
    "\n",
    "plt.xkcd()\n",
    "scatter_matrix(df123.iloc[:, [2, 3, 4, 5, 6, 7, 8, 9, 12]], alpha=0.2, figsize=(15, 15), diagonal='kde')\n",
    "plt.show()"
   ]
  },
  {
   "cell_type": "code",
   "execution_count": 69,
   "metadata": {},
   "outputs": [
    {
     "data": {
      "text/plain": [
       "Text(0.5, 1.0, 'Rides During the Week')"
      ]
     },
     "execution_count": 69,
     "metadata": {},
     "output_type": "execute_result"
    },
    {
     "data": {
      "image/png": "[encoded data removed]",
      "text/plain": [
       "<Figure size 720x504 with 1 Axes>"
      ]
     },
     "metadata": {},
     "output_type": "display_data"
    }
   ],
   "source": [
    "import seaborn as sns\n",
    "sns.set(palette='RdBu')\n",
    "df123.loc[:,'DayOfWeek'].hist(bins=7, figsize=(10,7)).set_title('Rides During the Week')"
   ]
  },
  {
   "cell_type": "code",
   "execution_count": 74,
   "metadata": {},
   "outputs": [
    {
     "name": "stdout",
     "output_type": "stream",
     "text": [
      "Out of Bounds entries dropped: 0\n"
     ]
    }
   ],
   "source": [
    "# Remove any rows that started or ended out of bounds\n",
    "df123a = df123a[~df123a['StartLatitude'].astype(str).str.contains('OUT_OF_BOUNDS')]\n",
    "df123a = df123a[~df123a['EndLatitude'].astype(str).str.contains('OUT_OF_BOUNDS')]\n",
    "df123a = df123a[~df123a['StartLongitude'].astype(str).str.contains('OUT_OF_BOUNDS')]\n",
    "df123a = df123a[~df123a['EndLongitude'].astype(str).str.contains('OUT_OF_BOUNDS')]\n",
    "\n",
    "# Get number of rows dropped\n",
    "rows_remaining = df123a.shape[0]\n",
    "oob_rows_dropped = rows_remaining - df123a.shape[0]\n",
    "print('Out of Bounds entries dropped: ' + str(oob_rows_dropped))"
   ]
  },
  {
   "cell_type": "code",
   "execution_count": 76,
   "metadata": {},
   "outputs": [
    {
     "name": "stdout",
     "output_type": "stream",
     "text": [
      "Before removing outliers:\n"
     ]
    },
    {
     "data": {
      "image/png": "[encoded data removed]",
      "text/plain": [
       "<Figure size 720x360 with 2 Axes>"
      ]
     },
     "metadata": {},
     "output_type": "display_data"
    }
   ],
   "source": [
    "print('Before removing outliers:')\n",
    "\n",
    "# Describe showed some negative and very high values for Trip Distance and Trip Duration.\n",
    "# Use histograms to show how the values are distributed.\n",
    "\n",
    "plt.figure(figsize=[10, 5])\n",
    "plt.subplot(1,2,1)\n",
    "plt.hist(df123['TripDuration'], bins=50, log=True)\n",
    "plt.ylabel('Number of trips (log scale)')\n",
    "plt.xlabel('seconds')\n",
    "plt.title('Trip Duration Frequency')\n",
    "plt.xticks(rotation='vertical')\n",
    "\n",
    "plt.subplot(1,2,2)\n",
    "plt.hist(df123['TripDistance'], bins=50, log=True)\n",
    "plt.xlabel('meters')\n",
    "plt.title('Trip Distance Frequency')\n",
    "plt.xticks(rotation='vertical')\n",
    "\n",
    "plt.tight_layout()\n",
    "plt.show()\n",
    "plt.close()\n"
   ]
  },
  {
   "cell_type": "code",
   "execution_count": 78,
   "metadata": {},
   "outputs": [
    {
     "name": "stdout",
     "output_type": "stream",
     "text": [
      "Negative duration dropped: 0\n",
      "Over 12.0 hours dropped: 0\n",
      "Negative or 0 distance dropped: 0\n",
      "Distance > 49.9999845312 mi dropped: 0\n"
     ]
    }
   ],
   "source": [
    "# Describe showed negative trip duration values. Remove these entries\n",
    "df123 = df123[df123['TripDuration'] > 0]\n",
    "\n",
    "# Get number of rows dropped\n",
    "rows_remaining = df123.shape[0]\n",
    "neg_dur_rows_dropped = rows_remaining - df123.shape[0]\n",
    "print('Negative duration dropped: ' + str(neg_dur_rows_dropped))\n",
    "\n",
    "# Drop > a certain number of hours\n",
    "time_thresh = 43200\n",
    "rows_remaining = df123.shape[0]\n",
    "df123 = df123[df123['TripDuration'] < time_thresh]\n",
    "high_dur_rows_dropped = rows_remaining - df123.shape[0]\n",
    "\n",
    "print('Over ' + str(time_thresh/3600) + ' hours dropped: ' + str(high_dur_rows_dropped))\n",
    "\n",
    "# Describe showed negative trip distance values. Remove these entries, and trips of 0 m.\n",
    "df123 = df123[df123['TripDistance'] > 0]\n",
    "rows_remaining = df123.shape[0]\n",
    "neg_dist_rows_dropped = rows_remaining - df123.shape[0]\n",
    "print('Negative or 0 distance dropped: ' + str(neg_dist_rows_dropped))\n",
    "\n",
    "# Remove entries over a certain amount for trip distance.  Average scooter battery range is 30 mi, with some capable of 50 mi.\n",
    "dist_thresh = 80467.2\n",
    "df123 = df123[df123['TripDistance'] < dist_thresh]\n",
    "rows_remaining = df123.shape[0]\n",
    "high_dist_rows_dropped = rows_remaining - df123.shape[0]\n",
    "print('Distance > ' + str(dist_thresh * 0.000621371) + ' mi dropped: ' + str(high_dist_rows_dropped))"
   ]
  },
  {
   "cell_type": "code",
   "execution_count": 79,
   "metadata": {},
   "outputs": [
    {
     "name": "stdout",
     "output_type": "stream",
     "text": [
      "After removing outliers:\n"
     ]
    },
    {
     "data": {
      "image/png": "[encoded data removed]",
      "text/plain": [
       "<Figure size 720x360 with 2 Axes>"
      ]
     },
     "metadata": {},
     "output_type": "display_data"
    }
   ],
   "source": [
    "print('After removing outliers:')\n",
    "plt.figure(figsize=[10, 5])\n",
    "plt.subplot(1,2,1)\n",
    "plt.hist(df123['TripDuration'], bins=50, log=True)\n",
    "plt.ylabel('Number of Trips (log scale)')\n",
    "plt.xlabel('seconds')\n",
    "plt.title('Trip Duration Frequency')\n",
    "plt.xticks(rotation='vertical')\n",
    "\n",
    "plt.subplot(1,2,2)\n",
    "plt.hist(df123['TripDistance'], bins=50, log=True)\n",
    "plt.xlabel('meters')\n",
    "plt.title('Trip Distance Frequency')\n",
    "plt.xticks(rotation='vertical')\n",
    "\n",
    "plt.tight_layout()\n",
    "plt.show()\n",
    "plt.close()"
   ]
  }
 ],
 "metadata": {
  "kernelspec": {
   "display_name": "Python 3",
   "language": "python",
   "name": "python3"
  },
  "language_info": {
   "codemirror_mode": {
    "name": "ipython",
    "version": 3
   },
   "file_extension": ".py",
   "mimetype": "text/x-python",
   "name": "python",
   "nbconvert_exporter": "python",
   "pygments_lexer": "ipython3",
   "version": "3.8.8"
  }
 },
 "nbformat": 4,
 "nbformat_minor": 4
}
